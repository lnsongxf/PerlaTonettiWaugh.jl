{
 "cells": [
  {
   "cell_type": "code",
   "execution_count": 2,
   "metadata": {},
   "outputs": [],
   "source": [
    "import pandas as pd\n",
    "import matplotlib.pyplot as plt\n",
    "import numpy as np\n",
    "\n",
    "fig_path = \"C:\\\\Users\\\\mwaugh\\\\github\\\\perla_tonetti_waugh\\\\Figures\"\n",
    "# Change this to reflect where the local repository is..."
   ]
  },
  {
   "cell_type": "markdown",
   "metadata": {},
   "source": [
    "This reads in the data from the `julia` code. There should be two csv files, one of the transtion path, another for the stuff in the initial stationary eq."
   ]
  },
  {
   "cell_type": "code",
   "execution_count": 52,
   "metadata": {},
   "outputs": [],
   "source": [
    "df = pd.read_csv(\"transition_results.csv\")\n",
    "df_stationary = pd.read_csv(\"stationary_results.csv\")\n",
    "df_welfare = pd.read_csv(\"welfare_results.csv\")"
   ]
  },
  {
   "cell_type": "code",
   "execution_count": 6,
   "metadata": {},
   "outputs": [
    {
     "data": {
      "text/html": [
       "<div>\n",
       "<style scoped>\n",
       "    .dataframe tbody tr th:only-of-type {\n",
       "        vertical-align: middle;\n",
       "    }\n",
       "\n",
       "    .dataframe tbody tr th {\n",
       "        vertical-align: top;\n",
       "    }\n",
       "\n",
       "    .dataframe thead th {\n",
       "        text-align: right;\n",
       "    }\n",
       "</style>\n",
       "<table border=\"1\" class=\"dataframe\">\n",
       "  <thead>\n",
       "    <tr style=\"text-align: right;\">\n",
       "      <th></th>\n",
       "      <th>t</th>\n",
       "      <th>g</th>\n",
       "      <th>λ_ii</th>\n",
       "      <th>c</th>\n",
       "      <th>L_tilde</th>\n",
       "      <th>Ω</th>\n",
       "      <th>π_rat</th>\n",
       "      <th>L_tilde_a</th>\n",
       "      <th>L_tilde_x</th>\n",
       "      <th>L_tilde_E</th>\n",
       "    </tr>\n",
       "  </thead>\n",
       "  <tbody>\n",
       "    <tr>\n",
       "      <th>0</th>\n",
       "      <td>0.0</td>\n",
       "      <td>0.020957</td>\n",
       "      <td>0.865238</td>\n",
       "      <td>0.834798</td>\n",
       "      <td>0.273984</td>\n",
       "      <td>0.674027</td>\n",
       "      <td>2.109768</td>\n",
       "      <td>0.082933</td>\n",
       "      <td>0.027924</td>\n",
       "      <td>0.163127</td>\n",
       "    </tr>\n",
       "    <tr>\n",
       "      <th>1</th>\n",
       "      <td>0.5</td>\n",
       "      <td>0.021056</td>\n",
       "      <td>0.864949</td>\n",
       "      <td>0.833986</td>\n",
       "      <td>0.274052</td>\n",
       "      <td>0.672587</td>\n",
       "      <td>2.110894</td>\n",
       "      <td>0.083084</td>\n",
       "      <td>0.027983</td>\n",
       "      <td>0.162985</td>\n",
       "    </tr>\n",
       "    <tr>\n",
       "      <th>2</th>\n",
       "      <td>1.0</td>\n",
       "      <td>0.021126</td>\n",
       "      <td>0.864648</td>\n",
       "      <td>0.833288</td>\n",
       "      <td>0.274035</td>\n",
       "      <td>0.671170</td>\n",
       "      <td>2.112055</td>\n",
       "      <td>0.083141</td>\n",
       "      <td>0.028046</td>\n",
       "      <td>0.162848</td>\n",
       "    </tr>\n",
       "    <tr>\n",
       "      <th>3</th>\n",
       "      <td>1.5</td>\n",
       "      <td>0.021190</td>\n",
       "      <td>0.864348</td>\n",
       "      <td>0.832616</td>\n",
       "      <td>0.274008</td>\n",
       "      <td>0.669775</td>\n",
       "      <td>2.113218</td>\n",
       "      <td>0.083182</td>\n",
       "      <td>0.028111</td>\n",
       "      <td>0.162715</td>\n",
       "    </tr>\n",
       "    <tr>\n",
       "      <th>4</th>\n",
       "      <td>2.0</td>\n",
       "      <td>0.021268</td>\n",
       "      <td>0.864074</td>\n",
       "      <td>0.831897</td>\n",
       "      <td>0.274020</td>\n",
       "      <td>0.668402</td>\n",
       "      <td>2.114275</td>\n",
       "      <td>0.083269</td>\n",
       "      <td>0.028166</td>\n",
       "      <td>0.162586</td>\n",
       "    </tr>\n",
       "    <tr>\n",
       "      <th>5</th>\n",
       "      <td>2.5</td>\n",
       "      <td>0.021359</td>\n",
       "      <td>0.863817</td>\n",
       "      <td>0.831134</td>\n",
       "      <td>0.274076</td>\n",
       "      <td>0.667052</td>\n",
       "      <td>2.115269</td>\n",
       "      <td>0.083399</td>\n",
       "      <td>0.028214</td>\n",
       "      <td>0.162462</td>\n",
       "    </tr>\n",
       "    <tr>\n",
       "      <th>6</th>\n",
       "      <td>3.0</td>\n",
       "      <td>0.021482</td>\n",
       "      <td>0.863570</td>\n",
       "      <td>0.830251</td>\n",
       "      <td>0.274243</td>\n",
       "      <td>0.665723</td>\n",
       "      <td>2.116244</td>\n",
       "      <td>0.083641</td>\n",
       "      <td>0.028259</td>\n",
       "      <td>0.162343</td>\n",
       "    </tr>\n",
       "    <tr>\n",
       "      <th>7</th>\n",
       "      <td>3.5</td>\n",
       "      <td>0.021618</td>\n",
       "      <td>0.863335</td>\n",
       "      <td>0.829331</td>\n",
       "      <td>0.274448</td>\n",
       "      <td>0.664417</td>\n",
       "      <td>2.117175</td>\n",
       "      <td>0.083920</td>\n",
       "      <td>0.028300</td>\n",
       "      <td>0.162228</td>\n",
       "    </tr>\n",
       "    <tr>\n",
       "      <th>8</th>\n",
       "      <td>4.0</td>\n",
       "      <td>0.021749</td>\n",
       "      <td>0.863094</td>\n",
       "      <td>0.828431</td>\n",
       "      <td>0.274650</td>\n",
       "      <td>0.663132</td>\n",
       "      <td>2.118134</td>\n",
       "      <td>0.084188</td>\n",
       "      <td>0.028344</td>\n",
       "      <td>0.162118</td>\n",
       "    </tr>\n",
       "    <tr>\n",
       "      <th>9</th>\n",
       "      <td>4.5</td>\n",
       "      <td>0.021870</td>\n",
       "      <td>0.862859</td>\n",
       "      <td>0.827573</td>\n",
       "      <td>0.274823</td>\n",
       "      <td>0.661868</td>\n",
       "      <td>2.119066</td>\n",
       "      <td>0.084425</td>\n",
       "      <td>0.028386</td>\n",
       "      <td>0.162012</td>\n",
       "    </tr>\n",
       "  </tbody>\n",
       "</table>\n",
       "</div>"
      ],
      "text/plain": [
       "     t         g      λ_ii         c   L_tilde         Ω     π_rat  L_tilde_a  \\\n",
       "0  0.0  0.020957  0.865238  0.834798  0.273984  0.674027  2.109768   0.082933   \n",
       "1  0.5  0.021056  0.864949  0.833986  0.274052  0.672587  2.110894   0.083084   \n",
       "2  1.0  0.021126  0.864648  0.833288  0.274035  0.671170  2.112055   0.083141   \n",
       "3  1.5  0.021190  0.864348  0.832616  0.274008  0.669775  2.113218   0.083182   \n",
       "4  2.0  0.021268  0.864074  0.831897  0.274020  0.668402  2.114275   0.083269   \n",
       "5  2.5  0.021359  0.863817  0.831134  0.274076  0.667052  2.115269   0.083399   \n",
       "6  3.0  0.021482  0.863570  0.830251  0.274243  0.665723  2.116244   0.083641   \n",
       "7  3.5  0.021618  0.863335  0.829331  0.274448  0.664417  2.117175   0.083920   \n",
       "8  4.0  0.021749  0.863094  0.828431  0.274650  0.663132  2.118134   0.084188   \n",
       "9  4.5  0.021870  0.862859  0.827573  0.274823  0.661868  2.119066   0.084425   \n",
       "\n",
       "   L_tilde_x  L_tilde_E  \n",
       "0   0.027924   0.163127  \n",
       "1   0.027983   0.162985  \n",
       "2   0.028046   0.162848  \n",
       "3   0.028111   0.162715  \n",
       "4   0.028166   0.162586  \n",
       "5   0.028214   0.162462  \n",
       "6   0.028259   0.162343  \n",
       "7   0.028300   0.162228  \n",
       "8   0.028344   0.162118  \n",
       "9   0.028386   0.162012  "
      ]
     },
     "execution_count": 6,
     "metadata": {},
     "output_type": "execute_result"
    }
   ],
   "source": [
    "df.head(10)"
   ]
  },
  {
   "cell_type": "code",
   "execution_count": 153,
   "metadata": {},
   "outputs": [
    {
     "data": {
      "text/html": [
       "<div>\n",
       "<style scoped>\n",
       "    .dataframe tbody tr th:only-of-type {\n",
       "        vertical-align: middle;\n",
       "    }\n",
       "\n",
       "    .dataframe tbody tr th {\n",
       "        vertical-align: top;\n",
       "    }\n",
       "\n",
       "    .dataframe thead th {\n",
       "        text-align: right;\n",
       "    }\n",
       "</style>\n",
       "<table border=\"1\" class=\"dataframe\">\n",
       "  <thead>\n",
       "    <tr style=\"text-align: right;\">\n",
       "      <th></th>\n",
       "      <th>t</th>\n",
       "      <th>g</th>\n",
       "      <th>λ_ii</th>\n",
       "      <th>c</th>\n",
       "      <th>L_tilde</th>\n",
       "      <th>Ω</th>\n",
       "      <th>L_tilde_a</th>\n",
       "      <th>L_tilde_x</th>\n",
       "      <th>L_tilde_E</th>\n",
       "    </tr>\n",
       "  </thead>\n",
       "  <tbody>\n",
       "    <tr>\n",
       "      <th>141</th>\n",
       "      <td>74.744</td>\n",
       "      <td>0.020009</td>\n",
       "      <td>0.896469</td>\n",
       "      <td>0.812898</td>\n",
       "      <td>0.280134</td>\n",
       "      <td>0.672949</td>\n",
       "      <td>0.080648</td>\n",
       "      <td>0.021272</td>\n",
       "      <td>0.178214</td>\n",
       "    </tr>\n",
       "    <tr>\n",
       "      <th>142</th>\n",
       "      <td>74.872</td>\n",
       "      <td>0.020009</td>\n",
       "      <td>0.896469</td>\n",
       "      <td>0.812898</td>\n",
       "      <td>0.280134</td>\n",
       "      <td>0.672949</td>\n",
       "      <td>0.080648</td>\n",
       "      <td>0.021272</td>\n",
       "      <td>0.178214</td>\n",
       "    </tr>\n",
       "    <tr>\n",
       "      <th>143</th>\n",
       "      <td>74.936</td>\n",
       "      <td>0.020009</td>\n",
       "      <td>0.896469</td>\n",
       "      <td>0.812898</td>\n",
       "      <td>0.280134</td>\n",
       "      <td>0.672949</td>\n",
       "      <td>0.080648</td>\n",
       "      <td>0.021272</td>\n",
       "      <td>0.178214</td>\n",
       "    </tr>\n",
       "    <tr>\n",
       "      <th>144</th>\n",
       "      <td>74.968</td>\n",
       "      <td>0.020009</td>\n",
       "      <td>0.896469</td>\n",
       "      <td>0.812898</td>\n",
       "      <td>0.280134</td>\n",
       "      <td>0.672949</td>\n",
       "      <td>0.080648</td>\n",
       "      <td>0.021272</td>\n",
       "      <td>0.178214</td>\n",
       "    </tr>\n",
       "    <tr>\n",
       "      <th>145</th>\n",
       "      <td>74.984</td>\n",
       "      <td>0.020009</td>\n",
       "      <td>0.896469</td>\n",
       "      <td>0.812898</td>\n",
       "      <td>0.280134</td>\n",
       "      <td>0.672949</td>\n",
       "      <td>0.080648</td>\n",
       "      <td>0.021272</td>\n",
       "      <td>0.178214</td>\n",
       "    </tr>\n",
       "    <tr>\n",
       "      <th>146</th>\n",
       "      <td>74.992</td>\n",
       "      <td>0.020009</td>\n",
       "      <td>0.896469</td>\n",
       "      <td>0.812898</td>\n",
       "      <td>0.280134</td>\n",
       "      <td>0.672949</td>\n",
       "      <td>0.080648</td>\n",
       "      <td>0.021272</td>\n",
       "      <td>0.178214</td>\n",
       "    </tr>\n",
       "    <tr>\n",
       "      <th>147</th>\n",
       "      <td>74.996</td>\n",
       "      <td>0.020009</td>\n",
       "      <td>0.896469</td>\n",
       "      <td>0.812898</td>\n",
       "      <td>0.280134</td>\n",
       "      <td>0.672949</td>\n",
       "      <td>0.080648</td>\n",
       "      <td>0.021272</td>\n",
       "      <td>0.178214</td>\n",
       "    </tr>\n",
       "    <tr>\n",
       "      <th>148</th>\n",
       "      <td>74.998</td>\n",
       "      <td>0.020009</td>\n",
       "      <td>0.896469</td>\n",
       "      <td>0.812898</td>\n",
       "      <td>0.280133</td>\n",
       "      <td>0.672949</td>\n",
       "      <td>0.080648</td>\n",
       "      <td>0.021272</td>\n",
       "      <td>0.178214</td>\n",
       "    </tr>\n",
       "    <tr>\n",
       "      <th>149</th>\n",
       "      <td>74.999</td>\n",
       "      <td>0.020009</td>\n",
       "      <td>0.896469</td>\n",
       "      <td>0.812898</td>\n",
       "      <td>0.280133</td>\n",
       "      <td>0.672949</td>\n",
       "      <td>0.080648</td>\n",
       "      <td>0.021272</td>\n",
       "      <td>0.178214</td>\n",
       "    </tr>\n",
       "    <tr>\n",
       "      <th>150</th>\n",
       "      <td>75.000</td>\n",
       "      <td>0.020009</td>\n",
       "      <td>0.896469</td>\n",
       "      <td>0.812898</td>\n",
       "      <td>0.280134</td>\n",
       "      <td>0.672949</td>\n",
       "      <td>0.080648</td>\n",
       "      <td>0.021272</td>\n",
       "      <td>0.178214</td>\n",
       "    </tr>\n",
       "  </tbody>\n",
       "</table>\n",
       "</div>"
      ],
      "text/plain": [
       "          t         g      λ_ii         c   L_tilde         Ω  L_tilde_a  \\\n",
       "141  74.744  0.020009  0.896469  0.812898  0.280134  0.672949   0.080648   \n",
       "142  74.872  0.020009  0.896469  0.812898  0.280134  0.672949   0.080648   \n",
       "143  74.936  0.020009  0.896469  0.812898  0.280134  0.672949   0.080648   \n",
       "144  74.968  0.020009  0.896469  0.812898  0.280134  0.672949   0.080648   \n",
       "145  74.984  0.020009  0.896469  0.812898  0.280134  0.672949   0.080648   \n",
       "146  74.992  0.020009  0.896469  0.812898  0.280134  0.672949   0.080648   \n",
       "147  74.996  0.020009  0.896469  0.812898  0.280134  0.672949   0.080648   \n",
       "148  74.998  0.020009  0.896469  0.812898  0.280133  0.672949   0.080648   \n",
       "149  74.999  0.020009  0.896469  0.812898  0.280133  0.672949   0.080648   \n",
       "150  75.000  0.020009  0.896469  0.812898  0.280134  0.672949   0.080648   \n",
       "\n",
       "     L_tilde_x  L_tilde_E  \n",
       "141   0.021272   0.178214  \n",
       "142   0.021272   0.178214  \n",
       "143   0.021272   0.178214  \n",
       "144   0.021272   0.178214  \n",
       "145   0.021272   0.178214  \n",
       "146   0.021272   0.178214  \n",
       "147   0.021272   0.178214  \n",
       "148   0.021272   0.178214  \n",
       "149   0.021272   0.178214  \n",
       "150   0.021272   0.178214  "
      ]
     },
     "execution_count": 153,
     "metadata": {},
     "output_type": "execute_result"
    }
   ],
   "source": [
    "#df = df[[\"t\", \"g\", \"λ_ii\", \"c\", \"L_tilde\", \"Ω\", \"L_tilde_a\", \"L_tilde_x\", \"L_tilde_E\"]]\n",
    "\n",
    "#df.g = df.g - 0.0003\n",
    "\n",
    "#df.tail(10)"
   ]
  },
  {
   "cell_type": "markdown",
   "metadata": {},
   "source": [
    "Now we need to do a bit of pandas jujitsu to add the stationary part to the transition path...first replicate the one row data frame, create a new time period, replace the old time"
   ]
  },
  {
   "cell_type": "code",
   "execution_count": 8,
   "metadata": {},
   "outputs": [],
   "source": [
    "extra_periods = 5;\n",
    "\n",
    "df_stationary = pd.concat([df_stationary]*extra_periods, ignore_index=True)"
   ]
  },
  {
   "cell_type": "code",
   "execution_count": 9,
   "metadata": {},
   "outputs": [],
   "source": [
    "df_stationary[\"t_hat\"] = [-20, -15, -10, -5, -1]  "
   ]
  },
  {
   "cell_type": "code",
   "execution_count": 10,
   "metadata": {},
   "outputs": [],
   "source": [
    "df_stationary.drop([\"t\"],axis = 1, inplace = True)"
   ]
  },
  {
   "cell_type": "code",
   "execution_count": 11,
   "metadata": {},
   "outputs": [],
   "source": [
    "df_stationary.rename(columns={\"t_hat\": \"t\"},inplace = True)"
   ]
  },
  {
   "cell_type": "code",
   "execution_count": 12,
   "metadata": {},
   "outputs": [
    {
     "data": {
      "text/html": [
       "<div>\n",
       "<style scoped>\n",
       "    .dataframe tbody tr th:only-of-type {\n",
       "        vertical-align: middle;\n",
       "    }\n",
       "\n",
       "    .dataframe tbody tr th {\n",
       "        vertical-align: top;\n",
       "    }\n",
       "\n",
       "    .dataframe thead th {\n",
       "        text-align: right;\n",
       "    }\n",
       "</style>\n",
       "<table border=\"1\" class=\"dataframe\">\n",
       "  <thead>\n",
       "    <tr style=\"text-align: right;\">\n",
       "      <th></th>\n",
       "      <th>g</th>\n",
       "      <th>λ_ii</th>\n",
       "      <th>c</th>\n",
       "      <th>L_tilde</th>\n",
       "      <th>Ω</th>\n",
       "      <th>π_rat</th>\n",
       "      <th>L_tilde_a</th>\n",
       "      <th>L_tilde_x</th>\n",
       "      <th>L_tilde_E</th>\n",
       "      <th>t</th>\n",
       "    </tr>\n",
       "  </thead>\n",
       "  <tbody>\n",
       "    <tr>\n",
       "      <th>0</th>\n",
       "      <td>0.020016</td>\n",
       "      <td>0.896562</td>\n",
       "      <td>0.814131</td>\n",
       "      <td>0.279568</td>\n",
       "      <td>0.674027</td>\n",
       "      <td>1.725055</td>\n",
       "      <td>0.079799</td>\n",
       "      <td>0.02127</td>\n",
       "      <td>0.178499</td>\n",
       "      <td>-20</td>\n",
       "    </tr>\n",
       "    <tr>\n",
       "      <th>1</th>\n",
       "      <td>0.020016</td>\n",
       "      <td>0.896562</td>\n",
       "      <td>0.814131</td>\n",
       "      <td>0.279568</td>\n",
       "      <td>0.674027</td>\n",
       "      <td>1.725055</td>\n",
       "      <td>0.079799</td>\n",
       "      <td>0.02127</td>\n",
       "      <td>0.178499</td>\n",
       "      <td>-15</td>\n",
       "    </tr>\n",
       "    <tr>\n",
       "      <th>2</th>\n",
       "      <td>0.020016</td>\n",
       "      <td>0.896562</td>\n",
       "      <td>0.814131</td>\n",
       "      <td>0.279568</td>\n",
       "      <td>0.674027</td>\n",
       "      <td>1.725055</td>\n",
       "      <td>0.079799</td>\n",
       "      <td>0.02127</td>\n",
       "      <td>0.178499</td>\n",
       "      <td>-10</td>\n",
       "    </tr>\n",
       "    <tr>\n",
       "      <th>3</th>\n",
       "      <td>0.020016</td>\n",
       "      <td>0.896562</td>\n",
       "      <td>0.814131</td>\n",
       "      <td>0.279568</td>\n",
       "      <td>0.674027</td>\n",
       "      <td>1.725055</td>\n",
       "      <td>0.079799</td>\n",
       "      <td>0.02127</td>\n",
       "      <td>0.178499</td>\n",
       "      <td>-5</td>\n",
       "    </tr>\n",
       "    <tr>\n",
       "      <th>4</th>\n",
       "      <td>0.020016</td>\n",
       "      <td>0.896562</td>\n",
       "      <td>0.814131</td>\n",
       "      <td>0.279568</td>\n",
       "      <td>0.674027</td>\n",
       "      <td>1.725055</td>\n",
       "      <td>0.079799</td>\n",
       "      <td>0.02127</td>\n",
       "      <td>0.178499</td>\n",
       "      <td>-1</td>\n",
       "    </tr>\n",
       "  </tbody>\n",
       "</table>\n",
       "</div>"
      ],
      "text/plain": [
       "          g      λ_ii         c   L_tilde         Ω     π_rat  L_tilde_a  \\\n",
       "0  0.020016  0.896562  0.814131  0.279568  0.674027  1.725055   0.079799   \n",
       "1  0.020016  0.896562  0.814131  0.279568  0.674027  1.725055   0.079799   \n",
       "2  0.020016  0.896562  0.814131  0.279568  0.674027  1.725055   0.079799   \n",
       "3  0.020016  0.896562  0.814131  0.279568  0.674027  1.725055   0.079799   \n",
       "4  0.020016  0.896562  0.814131  0.279568  0.674027  1.725055   0.079799   \n",
       "\n",
       "   L_tilde_x  L_tilde_E   t  \n",
       "0    0.02127   0.178499 -20  \n",
       "1    0.02127   0.178499 -15  \n",
       "2    0.02127   0.178499 -10  \n",
       "3    0.02127   0.178499  -5  \n",
       "4    0.02127   0.178499  -1  "
      ]
     },
     "execution_count": 12,
     "metadata": {},
     "output_type": "execute_result"
    }
   ],
   "source": [
    "df_stationary"
   ]
  },
  {
   "cell_type": "markdown",
   "metadata": {},
   "source": [
    "Then append this to the transition path."
   ]
  },
  {
   "cell_type": "code",
   "execution_count": 13,
   "metadata": {},
   "outputs": [],
   "source": [
    "df = df.append(df_stationary, ignore_index=True, sort=True)\n"
   ]
  },
  {
   "cell_type": "code",
   "execution_count": 14,
   "metadata": {},
   "outputs": [],
   "source": [
    "df = df.sort_values(by=['t'])\n",
    "\n",
    "df.reset_index(inplace = True)\n",
    "\n",
    "df.drop([\"index\"], axis=1, inplace = True)"
   ]
  },
  {
   "cell_type": "code",
   "execution_count": 63,
   "metadata": {},
   "outputs": [
    {
     "data": {
      "text/html": [
       "<div>\n",
       "<style scoped>\n",
       "    .dataframe tbody tr th:only-of-type {\n",
       "        vertical-align: middle;\n",
       "    }\n",
       "\n",
       "    .dataframe tbody tr th {\n",
       "        vertical-align: top;\n",
       "    }\n",
       "\n",
       "    .dataframe thead th {\n",
       "        text-align: right;\n",
       "    }\n",
       "</style>\n",
       "<table border=\"1\" class=\"dataframe\">\n",
       "  <thead>\n",
       "    <tr style=\"text-align: right;\">\n",
       "      <th></th>\n",
       "      <th>t</th>\n",
       "      <th>g</th>\n",
       "      <th>λ_ii</th>\n",
       "      <th>c</th>\n",
       "      <th>L_tilde</th>\n",
       "      <th>Ω</th>\n",
       "      <th>π_rat</th>\n",
       "      <th>L_tilde_a</th>\n",
       "      <th>L_tilde_x</th>\n",
       "      <th>L_tilde_E</th>\n",
       "    </tr>\n",
       "  </thead>\n",
       "  <tbody>\n",
       "    <tr>\n",
       "      <th>141</th>\n",
       "      <td>74.744</td>\n",
       "      <td>0.022831</td>\n",
       "      <td>0.859415</td>\n",
       "      <td>0.806399</td>\n",
       "      <td>0.282555</td>\n",
       "      <td>0.639005</td>\n",
       "      <td>2.133334</td>\n",
       "      <td>0.084543</td>\n",
       "      <td>0.028788</td>\n",
       "      <td>0.169224</td>\n",
       "    </tr>\n",
       "    <tr>\n",
       "      <th>142</th>\n",
       "      <td>74.872</td>\n",
       "      <td>0.022831</td>\n",
       "      <td>0.859415</td>\n",
       "      <td>0.806400</td>\n",
       "      <td>0.282555</td>\n",
       "      <td>0.639005</td>\n",
       "      <td>2.133335</td>\n",
       "      <td>0.084543</td>\n",
       "      <td>0.028788</td>\n",
       "      <td>0.169224</td>\n",
       "    </tr>\n",
       "    <tr>\n",
       "      <th>143</th>\n",
       "      <td>74.936</td>\n",
       "      <td>0.022831</td>\n",
       "      <td>0.859415</td>\n",
       "      <td>0.806400</td>\n",
       "      <td>0.282555</td>\n",
       "      <td>0.639005</td>\n",
       "      <td>2.133335</td>\n",
       "      <td>0.084543</td>\n",
       "      <td>0.028788</td>\n",
       "      <td>0.169224</td>\n",
       "    </tr>\n",
       "    <tr>\n",
       "      <th>144</th>\n",
       "      <td>74.968</td>\n",
       "      <td>0.022831</td>\n",
       "      <td>0.859415</td>\n",
       "      <td>0.806400</td>\n",
       "      <td>0.282555</td>\n",
       "      <td>0.639005</td>\n",
       "      <td>2.133335</td>\n",
       "      <td>0.084543</td>\n",
       "      <td>0.028788</td>\n",
       "      <td>0.169224</td>\n",
       "    </tr>\n",
       "    <tr>\n",
       "      <th>145</th>\n",
       "      <td>74.984</td>\n",
       "      <td>0.022831</td>\n",
       "      <td>0.859415</td>\n",
       "      <td>0.806400</td>\n",
       "      <td>0.282555</td>\n",
       "      <td>0.639005</td>\n",
       "      <td>2.133335</td>\n",
       "      <td>0.084542</td>\n",
       "      <td>0.028788</td>\n",
       "      <td>0.169224</td>\n",
       "    </tr>\n",
       "    <tr>\n",
       "      <th>146</th>\n",
       "      <td>74.992</td>\n",
       "      <td>0.022831</td>\n",
       "      <td>0.859415</td>\n",
       "      <td>0.806400</td>\n",
       "      <td>0.282555</td>\n",
       "      <td>0.639005</td>\n",
       "      <td>2.133335</td>\n",
       "      <td>0.084542</td>\n",
       "      <td>0.028788</td>\n",
       "      <td>0.169224</td>\n",
       "    </tr>\n",
       "    <tr>\n",
       "      <th>147</th>\n",
       "      <td>74.996</td>\n",
       "      <td>0.022831</td>\n",
       "      <td>0.859415</td>\n",
       "      <td>0.806400</td>\n",
       "      <td>0.282555</td>\n",
       "      <td>0.639005</td>\n",
       "      <td>2.133336</td>\n",
       "      <td>0.084542</td>\n",
       "      <td>0.028788</td>\n",
       "      <td>0.169224</td>\n",
       "    </tr>\n",
       "    <tr>\n",
       "      <th>148</th>\n",
       "      <td>74.998</td>\n",
       "      <td>0.022832</td>\n",
       "      <td>0.859416</td>\n",
       "      <td>0.806398</td>\n",
       "      <td>0.282556</td>\n",
       "      <td>0.639005</td>\n",
       "      <td>2.133334</td>\n",
       "      <td>0.084544</td>\n",
       "      <td>0.028788</td>\n",
       "      <td>0.169224</td>\n",
       "    </tr>\n",
       "    <tr>\n",
       "      <th>149</th>\n",
       "      <td>74.999</td>\n",
       "      <td>0.022832</td>\n",
       "      <td>0.859416</td>\n",
       "      <td>0.806398</td>\n",
       "      <td>0.282556</td>\n",
       "      <td>0.639005</td>\n",
       "      <td>2.133334</td>\n",
       "      <td>0.084544</td>\n",
       "      <td>0.028788</td>\n",
       "      <td>0.169224</td>\n",
       "    </tr>\n",
       "    <tr>\n",
       "      <th>150</th>\n",
       "      <td>75.000</td>\n",
       "      <td>0.022831</td>\n",
       "      <td>0.859416</td>\n",
       "      <td>0.806399</td>\n",
       "      <td>0.282555</td>\n",
       "      <td>0.639005</td>\n",
       "      <td>2.133331</td>\n",
       "      <td>0.084543</td>\n",
       "      <td>0.028788</td>\n",
       "      <td>0.169224</td>\n",
       "    </tr>\n",
       "  </tbody>\n",
       "</table>\n",
       "</div>"
      ],
      "text/plain": [
       "          t         g      λ_ii         c   L_tilde         Ω     π_rat  \\\n",
       "141  74.744  0.022831  0.859415  0.806399  0.282555  0.639005  2.133334   \n",
       "142  74.872  0.022831  0.859415  0.806400  0.282555  0.639005  2.133335   \n",
       "143  74.936  0.022831  0.859415  0.806400  0.282555  0.639005  2.133335   \n",
       "144  74.968  0.022831  0.859415  0.806400  0.282555  0.639005  2.133335   \n",
       "145  74.984  0.022831  0.859415  0.806400  0.282555  0.639005  2.133335   \n",
       "146  74.992  0.022831  0.859415  0.806400  0.282555  0.639005  2.133335   \n",
       "147  74.996  0.022831  0.859415  0.806400  0.282555  0.639005  2.133336   \n",
       "148  74.998  0.022832  0.859416  0.806398  0.282556  0.639005  2.133334   \n",
       "149  74.999  0.022832  0.859416  0.806398  0.282556  0.639005  2.133334   \n",
       "150  75.000  0.022831  0.859416  0.806399  0.282555  0.639005  2.133331   \n",
       "\n",
       "     L_tilde_a  L_tilde_x  L_tilde_E  \n",
       "141   0.084543   0.028788   0.169224  \n",
       "142   0.084543   0.028788   0.169224  \n",
       "143   0.084543   0.028788   0.169224  \n",
       "144   0.084543   0.028788   0.169224  \n",
       "145   0.084542   0.028788   0.169224  \n",
       "146   0.084542   0.028788   0.169224  \n",
       "147   0.084542   0.028788   0.169224  \n",
       "148   0.084544   0.028788   0.169224  \n",
       "149   0.084544   0.028788   0.169224  \n",
       "150   0.084543   0.028788   0.169224  "
      ]
     },
     "execution_count": 63,
     "metadata": {},
     "output_type": "execute_result"
    }
   ],
   "source": [
    "df.tail(10)"
   ]
  },
  {
   "cell_type": "markdown",
   "metadata": {},
   "source": [
    "# Welfare Gains from Trade"
   ]
  },
  {
   "cell_type": "code",
   "execution_count": 53,
   "metadata": {},
   "outputs": [
    {
     "data": {
      "text/html": [
       "<div>\n",
       "<style scoped>\n",
       "    .dataframe tbody tr th:only-of-type {\n",
       "        vertical-align: middle;\n",
       "    }\n",
       "\n",
       "    .dataframe tbody tr th {\n",
       "        vertical-align: top;\n",
       "    }\n",
       "\n",
       "    .dataframe thead th {\n",
       "        text-align: right;\n",
       "    }\n",
       "</style>\n",
       "<table border=\"1\" class=\"dataframe\">\n",
       "  <thead>\n",
       "    <tr style=\"text-align: right;\">\n",
       "      <th></th>\n",
       "      <th>steady_state</th>\n",
       "      <th>transition_path</th>\n",
       "    </tr>\n",
       "  </thead>\n",
       "  <tbody>\n",
       "    <tr>\n",
       "      <th>0</th>\n",
       "      <td>12.279093</td>\n",
       "      <td>13.661642</td>\n",
       "    </tr>\n",
       "  </tbody>\n",
       "</table>\n",
       "</div>"
      ],
      "text/plain": [
       "   steady_state  transition_path\n",
       "0     12.279093        13.661642"
      ]
     },
     "execution_count": 53,
     "metadata": {},
     "output_type": "execute_result"
    }
   ],
   "source": [
    "df_welfare.head()"
   ]
  },
  {
   "cell_type": "markdown",
   "metadata": {},
   "source": [
    "This reports the welfare gains. One to the left is the steady state, the one to the right is the transition path. Unlike our previous (wrong) stuff, the amplification is much more modest. Not hugly different."
   ]
  },
  {
   "cell_type": "code",
   "execution_count": 79,
   "metadata": {},
   "outputs": [
    {
     "name": "stdout",
     "output_type": "stream",
     "text": [
      "ACR Gains 0.22530426894948885\n"
     ]
    }
   ],
   "source": [
    "ACR_gains = 100*(((df.λ_ii.iloc[-1])/(df.λ_ii.iloc[0]))**(-1 / 3) - 1)\n",
    "\n",
    "print(\"ACR Gains\", ACR_gains)"
   ]
  },
  {
   "cell_type": "markdown",
   "metadata": {},
   "source": [
    "This reports the ACR implied gains. Need to verify the fomula, but I think this is correct. 0.2 percent increace in welfare. Our model is saying a 14 percentage point increase in welfare. One thing to think about is our consumption response strictly dwarfs just the ACR number. Then there is the growth effect. "
   ]
  },
  {
   "cell_type": "markdown",
   "metadata": {},
   "source": [
    "# Plotting the Results"
   ]
  },
  {
   "cell_type": "markdown",
   "metadata": {},
   "source": [
    "### Growth Rate of Productivity\n",
    "\n",
    "It's below, and we changed the excercise so we start from the calibrated value and then lower the trade cost by 10 percent."
   ]
  },
  {
   "cell_type": "code",
   "execution_count": 44,
   "metadata": {},
   "outputs": [
    {
     "data": {
      "image/png": "[encoded data removed]",
      "text/plain": [
       "<Figure size 720x504 with 1 Axes>"
      ]
     },
     "metadata": {
      "needs_background": "light"
     },
     "output_type": "display_data"
    }
   ],
   "source": [
    "fig, ax = plt.subplots(figsize = (10,7))\n",
    "\n",
    "ax.plot(df.t, 100*df.g, color = \"red\", lw = 5,\n",
    "        label = \"Growth Rate\", ls = \"-\")\n",
    "\n",
    "ax.spines[\"top\"].set_visible(False)\n",
    "ax.spines[\"right\"].set_visible(False)\n",
    "\n",
    "ax.set_ylabel(\"Productivity Growth\", fontsize = 14) \n",
    "ax.set_xlim(-20,50)\n",
    "ax.set_ylim(1.95,2.30)\n",
    "\n",
    "plt.savefig(fig_path + \"\\\\growth.pdf\", bbox_inches = \"tight\", dip = 3600)\n",
    "\n",
    "plt.show()"
   ]
  },
  {
   "cell_type": "markdown",
   "metadata": {},
   "source": [
    "### The Volume of Trade"
   ]
  },
  {
   "cell_type": "code",
   "execution_count": 22,
   "metadata": {},
   "outputs": [
    {
     "data": {
      "image/png": "[encoded data removed]",
      "text/plain": [
       "<Figure size 720x504 with 1 Axes>"
      ]
     },
     "metadata": {
      "needs_background": "light"
     },
     "output_type": "display_data"
    }
   ],
   "source": [
    "fig, ax = plt.subplots(figsize = (10,7))\n",
    "\n",
    "ax.plot(df.t, 100*(1-df.λ_ii), color = \"blue\", lw = 5,\n",
    "        label = \"Growth Rate\", ls = \"-\")\n",
    "\n",
    "ax.spines[\"top\"].set_visible(False)\n",
    "ax.spines[\"right\"].set_visible(False)\n",
    "\n",
    "ax.set_ylabel(\"Imports/GDP\", fontsize = 14) \n",
    "ax.set_xlim(-20,50)\n",
    "ax.set_ylim(9,15)\n",
    "\n",
    "plt.savefig(fig_path + \"\\\\trade.pdf\", bbox_inches = \"tight\", dip = 3600)\n",
    "\n",
    "plt.show()"
   ]
  },
  {
   "cell_type": "markdown",
   "metadata": {},
   "source": [
    "### The Pi Ratio\n",
    "\n",
    "This is not as interesitng as I thought. So it jumps, this explains the jump in growth. But very little dynamics after this.\n",
    "\n",
    "**Thought** It may be about the cost of adoption. In the SS logic, the cost is stationary, so never comes into play. Not the cost is chaning as varieties exit, Is there a way to do a \"net benefit\" vs \"net costs\" calculation."
   ]
  },
  {
   "cell_type": "code",
   "execution_count": 50,
   "metadata": {},
   "outputs": [
    {
     "data": {
      "image/png": "[encoded data removed]",
      "text/plain": [
       "<Figure size 720x504 with 1 Axes>"
      ]
     },
     "metadata": {
      "needs_background": "light"
     },
     "output_type": "display_data"
    }
   ],
   "source": [
    "fig, ax = plt.subplots(figsize = (10,7))\n",
    "\n",
    "ax.plot(df.t, df.π_rat/df.π_rat.iloc[0], color = \"black\", lw = 5,\n",
    "        label = \"Growth Rate\", ls = \"-\")\n",
    "\n",
    "ax.spines[\"top\"].set_visible(False)\n",
    "ax.spines[\"right\"].set_visible(False)\n",
    "\n",
    "ax.set_ylim(0.95,1.30)\n",
    "ax.set_xlim(-20,50)\n",
    "\n",
    "ax.set_ylabel(\"π ratio \\n Normalized, Initial S.S. = 1\", fontsize = 14) \n",
    "\n",
    "plt.savefig(fig_path + \"\\\\pi_ratio.pdf\", bbox_inches = \"tight\", dip = 3600)\n",
    "\n",
    "plt.show()"
   ]
  },
  {
   "cell_type": "markdown",
   "metadata": {},
   "source": [
    "### Consumption\n",
    "\n",
    "This stuff is very clear, really striking"
   ]
  },
  {
   "cell_type": "code",
   "execution_count": 46,
   "metadata": {},
   "outputs": [
    {
     "data": {
      "image/png": "[encoded data removed]",
      "text/plain": [
       "<Figure size 720x504 with 1 Axes>"
      ]
     },
     "metadata": {
      "needs_background": "light"
     },
     "output_type": "display_data"
    }
   ],
   "source": [
    "fig, ax = plt.subplots(figsize = (10,7))\n",
    "\n",
    "ax.plot(df.t, df.c/df.c.iloc[0], color = \"black\", lw = 5,\n",
    "        label = \"Growth Rate\", ls = \"-\")\n",
    "\n",
    "ax.spines[\"top\"].set_visible(False)\n",
    "ax.spines[\"right\"].set_visible(False)\n",
    "\n",
    "ax.set_ylabel(\"Consumption \\n Normalized, Initial S.S. = 1\", fontsize = 14) \n",
    "\n",
    "#ax.set_ylim(0.98,1.04)\n",
    "\n",
    "ax.set_xlim(-20,50)\n",
    "\n",
    "plt.savefig(fig_path + \"\\\\consumption.pdf\", bbox_inches = \"tight\", dip = 3600)\n",
    "\n",
    "plt.show()"
   ]
  },
  {
   "cell_type": "markdown",
   "metadata": {},
   "source": [
    "### Domestic Variety\n",
    "\n",
    "This falls"
   ]
  },
  {
   "cell_type": "code",
   "execution_count": 51,
   "metadata": {},
   "outputs": [
    {
     "data": {
      "image/png": "[encoded data removed]",
      "text/plain": [
       "<Figure size 720x504 with 1 Axes>"
      ]
     },
     "metadata": {
      "needs_background": "light"
     },
     "output_type": "display_data"
    }
   ],
   "source": [
    "fig, ax = plt.subplots(figsize = (10,7))\n",
    "\n",
    "ax.plot(df.t, df.Ω/df.Ω.iloc[0], color = \"red\", lw = 5,\n",
    "        label = \"\", ls = \"-\")\n",
    "\n",
    "ax.spines[\"top\"].set_visible(False)\n",
    "ax.spines[\"right\"].set_visible(False)\n",
    "\n",
    "ax.set_ylabel(\"Domestic Variety \\n Normalized, Initial S.S. = 1\", fontsize = 14) \n",
    "\n",
    "ax.set_ylim(0.94,1.04)\n",
    "\n",
    "ax.set_xlim(-20,50)\n",
    "\n",
    "plt.savefig(fig_path + \"\\\\omega.pdf\", bbox_inches = \"tight\", dip = 3600)\n",
    "\n",
    "plt.show()"
   ]
  },
  {
   "cell_type": "markdown",
   "metadata": {},
   "source": [
    "### Reallocation effects\n",
    "\n",
    "So this shows the total amount of labor used  for fixed costs and then breaks it down. So Adoption and Exporting go up, this is the first line. This is a force to lower consumption. However, entry falls, this is the blue line. The drop in labor going to entry is far larger than the increase initially. So, in total, a bunch of labor is allocated towards consumption amplifying the gains from trade."
   ]
  },
  {
   "cell_type": "code",
   "execution_count": 26,
   "metadata": {},
   "outputs": [
    {
     "data": {
      "image/png": "[encoded data removed]",
      "text/plain": [
       "<Figure size 720x504 with 1 Axes>"
      ]
     },
     "metadata": {
      "needs_background": "light"
     },
     "output_type": "display_data"
    }
   ],
   "source": [
    "fig, ax = plt.subplots(figsize = (10,7))\n",
    "\n",
    "ax.plot(df.t, 100*((df.L_tilde_x + df.L_tilde_a) - (df.L_tilde_a.iloc[0] + df.L_tilde_x.iloc[0])), color = \"red\", lw = 5, ls = \"-\", alpha = 0.80)\n",
    "\n",
    "ax.plot(df.t, 100*(df.L_tilde_E - df.L_tilde_E.iloc[0]) , color = \"blue\", lw = 5, ls = \"-\", alpha = 0.80)\n",
    "\n",
    "ax.plot(df.t, 200*(df.L_tilde - df.L_tilde.iloc[0]), color = \"black\", lw = 5, ls = \"--\", alpha = 0.70)\n",
    "\n",
    "ax.spines[\"top\"].set_visible(False)\n",
    "ax.spines[\"right\"].set_visible(False)\n",
    "\n",
    "ax.set_ylabel(\"Labor Outside of Production,\\n Percentage Point Change relative to SS\", fontsize = 14) \n",
    "\n",
    "ax.set_xlim(-20,50)\n",
    "ax.set_ylim(-1.75,1.75)\n",
    "\n",
    "ax.text(50, 1.05, \"Labor used in adoption and exporting\", horizontalalignment='right', fontsize = 12) \n",
    "\n",
    "ax.text(50, 0.22, \"Total labor used for fixed Costs\", horizontalalignment='right', fontsize = 12) \n",
    "\n",
    "ax.text(50, -0.85, \"Labor used for entry\", horizontalalignment='right', fontsize = 12) \n",
    "\n",
    "plt.savefig(fig_path + \"\\\\fixed_costs.pdf\", bbox_inches = \"tight\", dip = 3600)\n",
    "\n",
    "plt.show()"
   ]
  },
  {
   "cell_type": "code",
   "execution_count": null,
   "metadata": {},
   "outputs": [],
   "source": []
  }
 ],
 "metadata": {
  "kernelspec": {
   "display_name": "Python 3",
   "language": "python",
   "name": "python3"
  },
  "language_info": {
   "codemirror_mode": {
    "name": "ipython",
    "version": 3
   },
   "file_extension": ".py",
   "mimetype": "text/x-python",
   "name": "python",
   "nbconvert_exporter": "python",
   "pygments_lexer": "ipython3",
   "version": "3.6.6"
  }
 },
 "nbformat": 4,
 "nbformat_minor": 2
}
