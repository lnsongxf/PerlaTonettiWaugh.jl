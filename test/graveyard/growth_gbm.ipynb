{
 "cells": [
  {
   "cell_type": "code",
   "execution_count": 24,
   "metadata": {},
   "outputs": [
    {
     "name": "stdout",
     "output_type": "stream",
     "text": [
      "\u001b[32m\u001b[1m  Updating\u001b[22m\u001b[39m registry at `~/.julia/registries/General`\n",
      "\u001b[32m\u001b[1m  Updating\u001b[22m\u001b[39m git-repo `https://github.com/JuliaRegistries/General.git`\n",
      "\u001b[?25l\u001b[2K\u001b[?25h\u001b[32m\u001b[1mPrecompiling\u001b[22m\u001b[39m project...\n"
     ]
    }
   ],
   "source": [
    "using Pkg\n",
    "pkg\"activate .; instantiate; precompile\""
   ]
  },
  {
   "cell_type": "code",
   "execution_count": 4,
   "metadata": {},
   "outputs": [],
   "source": [
    "using PerlaTonettiWaugh, Plots, BenchmarkTools, CSV"
   ]
  },
  {
   "cell_type": "markdown",
   "metadata": {},
   "source": [
    "# Understanding why stuff is \"big\"\n",
    "\n",
    "Here is the approach. I will walk through several different cases. The idea is to vary mu, varepsilon, sigma and delta to see what is going on. In each of the cases, these parameters will be fixed, the remaining four parameters (trade cost, theta, kappa, chi) are REcalibrated to match the four (updated) original moments that we used: trade, growth, mass of exporters, relative size."
   ]
  },
  {
   "cell_type": "markdown",
   "metadata": {},
   "source": [
    "## The Basline\n",
    "\n",
    "Just to see where our current calibration is at..."
   ]
  },
  {
   "cell_type": "code",
   "execution_count": 23,
   "metadata": {},
   "outputs": [
    {
     "ename": "AssertionError",
     "evalue": "AssertionError: z_hat > 1 && (Ω > 0 && g > 0)",
     "output_type": "error",
     "traceback": [
      "AssertionError: z_hat > 1 && (Ω > 0 && g > 0)",
      "",
      "Stacktrace:",
      " [1] stationary_algebraic(::NamedTuple{(:ρ, :σ, :N, :θ, :γ, :κ, :ζ, :η, :Theta, :χ, :υ, :μ, :δ, :d, :d_0, :d_T),Tuple{Float64,Float64,Int64,Float64,Float64,Float64,Float64,Float64,Int64,Float64,Float64,Float64,Float64,Float64,Float64,Float64}}, ::NamedTuple{(:z_ex, :z, :T, :t, :weights, :transition_x0, :transition_lb, :transition_ub, :transition_iterations, :transition_penalty_coefficient, :interp, :tstops, :impose_E_monotonicity_constraints, :run_global, :stationary_x0, :pre_shock_times),Tuple{Array{Float64,1},Array{Float64,1},Float64,StepRangeLen{Float64,Base.TwicePrecision{Float64},Base.TwicePrecision{Float64}},Array{Float64,1},Array{Float64,1},Array{Float64,1},Array{Float64,1},Int64,Float64,typeof(Interpolations.LinearInterpolation),Nothing,Bool,Bool,Array{Float64,1},Array{Int64,1}}}) at /home/arnavsood/Desktop/PerlaTonettiWaugh.jl/src/full/stationary.jl:8",
      " [2] top-level scope at In[23]:15"
     ]
    }
   ],
   "source": [
    "parameters = parameter_defaults()\n",
    "parameters = merge(parameters, (ρ = 0.0195, d = 5.0672, θ = 3.2941,  κ = 0.1152, χ = 1/4.7847, υ = 0.0819, μ = -0.0289, σ = 2.3664,))\n",
    "settings = settings_defaults()\n",
    "d_0 = parameters.d # Here is the 10 percent tariff increase\n",
    "d_T = 1 + (parameters.d-1)*0.90\n",
    "\n",
    "#d_autarky = 1 + (parameters.d-1)*2.5 \n",
    "\n",
    "params_0 = merge(parameters, (d = d_0, )) # parameters to be used at t = 0\n",
    "params_T = merge(parameters, (d = d_T, )) # parameters to be used at t = T\n",
    "#params_autarky = merge(parameters, (d = d_autarky, )) # parameters to be used in autarky calc\n",
    "\n",
    "# initial value for numerical solver on (g, z_hat, Omega)\n",
    "initial_x = [0.02; 2; .57]\n",
    "\n",
    "# solve for stationary solution at t = 0\n",
    "stationary_sol_0 = stationary_algebraic(params_0, settings) # solution at t = 0\n",
    "stationary_sol = stationary_algebraic(params_T, settings) # solution at t = T\n",
    "#stationary_autarky = stationary_algebraic(params_autarky, initial_x) # solution at t = T\n",
    "\n",
    "lambda_ss = 100*(consumption_equivalent(stationary_sol.U_bar, stationary_sol_0.U_bar, parameters)-1)\n",
    "\n",
    "print(\"SS to SS welfare gain: \", lambda_ss,\"\\n\")\n",
    "print(\"Change in Trade: \", (1-stationary_sol.λ_ii) - (1-stationary_sol_0.λ_ii),\"\\n\")\n",
    "print(\"Growth Rates across SS: \", 100*stationary_sol.g,\"   \" ,100*stationary_sol_0.g, \"\\n\")"
   ]
  },
  {
   "cell_type": "markdown",
   "metadata": {},
   "source": [
    "## Case \\#1: Turn off drift, mu = 0\n",
    "\n",
    "Below are the resulting parameter values in the following order: Trade cost, theta, kappa, and chi\n",
    "\n",
    "``5.0623    3.2944    0.0633    3.3966``\n",
    "\n",
    "Note how the trade cost and theta are unchanged, kappa is lower, chi is lower. Chi makes sense in that the negative drift mechanichally forced people up to the threshold (just like the variance), so this is a mechanichal force to increase growth. Thus, with negative drift, to mute or tame growth, we need a larger cost of adoption. In constrast, when this is turned off we need a lower cost."
   ]
  },
  {
   "cell_type": "code",
   "execution_count": 6,
   "metadata": {},
   "outputs": [
    {
     "ename": "ErrorException",
     "evalue": "type Array has no field stationary_x0",
     "output_type": "error",
     "traceback": [
      "type Array has no field stationary_x0",
      "",
      "Stacktrace:",
      " [1] getproperty(::Any, ::Symbol) at ./sysimg.jl:18",
      " [2] stationary_algebraic(::NamedTuple{(:ρ, :σ, :N, :θ, :γ, :κ, :ζ, :η, :Theta, :χ, :υ, :μ, :δ, :d, :d_0, :d_T),Tuple{Float64,Float64,Int64,Float64,Float64,Float64,Float64,Float64,Int64,Float64,Float64,Float64,Float64,Float64,Float64,Float64}}, ::Array{Float64,1}) at /home/arnavsood/Desktop/PerlaTonettiWaugh.jl/src/full/stationary.jl:5",
      " [3] top-level scope at In[6]:15"
     ]
    }
   ],
   "source": [
    "parameters = parameter_defaults()\n",
    "parameters = merge(parameters, (ρ = 0.0195, d = 5.0623, θ = 3.2944,  κ = 0.0633, χ = 1/3.3966, υ = 0.0819, μ = 0.0, σ = 2.3664,))\n",
    "\n",
    "d_0 = parameters.d # Here is the 10 percent tariff increase\n",
    "d_T = 1 + (parameters.d-1)*0.90\n",
    "\n",
    "#d_autarky = 1 + (parameters.d-1)*2.5 \n",
    "\n",
    "params_0 = merge(parameters, (d = d_0, )) # parameters to be used at t = 0\n",
    "params_T = merge(parameters, (d = d_T, )) # parameters to be used at t = T\n",
    "#params_autarky = merge(parameters, (d = d_autarky, )) # parameters to be used in autarky calc\n",
    "\n",
    "# initial value for numerical solver on (g, z_hat, Omega)\n",
    "initial_x = [0.02; 2; .57]\n",
    "\n",
    "# solve for stationary solution at t = 0\n",
    "stationary_sol_0 = stationary_algebraic(params_0, initial_x) # solution at t = 0\n",
    "stationary_sol = stationary_algebraic(params_T, initial_x) # solution at t = T\n",
    "#stationary_autarky = stationary_algebraic(params_autarky, initial_x) # solution at t = T\n",
    "\n",
    "lambda_ss = 100*(consumption_equivalent(stationary_sol.U_bar, stationary_sol_0.U_bar, parameters)-1)\n",
    "\n",
    "print(\"SS to SS welfare gain: \", lambda_ss,\"\\n\")\n",
    "print(\"Change in Trade: \", (1-stationary_sol.λ_ii) - (1-stationary_sol_0.λ_ii),\"\\n\")\n",
    "print(\"Growth Rates across SS: \", 100*stationary_sol.g,\"   \" ,100*stationary_sol_0.g, \"\\n\")"
   ]
  },
  {
   "cell_type": "markdown",
   "metadata": {},
   "source": [
    "### Discussion...\n",
    "\n",
    "- First, welfare gains are smaller, growth goes up by a bit less. Not dramatic.\n",
    "- Second, note that I had to comment out the autarky calculation. In the autarky setting it says that parameter restrictcions were violated. This was the orginal reason we let the negative drift into the calibration to give more \"scope for the thing to work\"\n",
    "\n",
    "---"
   ]
  },
  {
   "cell_type": "markdown",
   "metadata": {},
   "source": [
    "## Case \\#2: Turn off drift, mu = 0, lower variance\n",
    "\n",
    "As a first step, lets just do three things 0.06, 0.03, 0.005\n",
    "\n",
    "**Summary** Several things happen from this excercise\n",
    "\n",
    "1. **Welfare and growth systematically fall as GBM is reduced.** So the final calibration delivers a welfare gain of 4.6 percent. (1/3) of our baseline value. Much of this is because growth is not changing as much now aoubt 10 basis points. \n",
    "\n",
    "2. The only parameter changing across calibrations is Chi. Surprisingly, the trade costs, theta, and exporter fixed costs are virtually unchanged through out the excercise. This suggests strongly about how trade and the exporter facts basically pin down d, theta, kappa. Then the growth rate is all about chi.\n",
    "\n",
    "3. Change in trade. This is not a mechanichal function of theta and the counterfactuall. It is changing a bit, but not always 3.29. I think this is because the trade elasticity is always a PE elasticit, hold prices fixed, change tau by a small amount, the trade changes by theta. We are not in this world. \n",
    "\n",
    "Using logic from the non-GBM case, the issue seems to be about how Chi is feeding into the elasticity of growth. What we are finding is that as we decrease GBM variance, that Chi is increasing (about 0.20 in baseline, 0.50 in low GBM situation), this means that the adoption cost is ???\n",
    "\n",
    "**Below are the details and the code**\n",
    "\n",
    "---\n",
    "\n",
    "- The ``0.06`` calibration: ``5.0684    3.2941    0.0636    3.1965``"
   ]
  },
  {
   "cell_type": "code",
   "execution_count": 7,
   "metadata": {},
   "outputs": [
    {
     "ename": "ErrorException",
     "evalue": "type Array has no field stationary_x0",
     "output_type": "error",
     "traceback": [
      "type Array has no field stationary_x0",
      "",
      "Stacktrace:",
      " [1] getproperty(::Any, ::Symbol) at ./sysimg.jl:18",
      " [2] stationary_algebraic(::NamedTuple{(:ρ, :σ, :N, :θ, :γ, :κ, :ζ, :η, :Theta, :χ, :υ, :μ, :δ, :d, :d_0, :d_T),Tuple{Float64,Float64,Int64,Float64,Float64,Float64,Float64,Float64,Int64,Float64,Float64,Float64,Float64,Float64,Float64,Float64}}, ::Array{Float64,1}) at /home/arnavsood/Desktop/PerlaTonettiWaugh.jl/src/full/stationary.jl:5",
      " [3] top-level scope at In[7]:15"
     ]
    }
   ],
   "source": [
    "parameters = parameter_defaults()\n",
    "parameters = merge(parameters, (ρ = 0.0195, d = 5.0684, θ = 3.2941,  κ = 0.0636, χ = 1/3.1965, υ = 0.06, μ = 0.0, σ = 2.3664,))\n",
    "\n",
    "d_0 = parameters.d # Here is the 10 percent tariff increase\n",
    "d_T = 1 + (parameters.d-1)*0.90\n",
    "\n",
    "#d_autarky = 1 + (parameters.d-1)*2.5 \n",
    "\n",
    "params_0 = merge(parameters, (d = d_0, )) # parameters to be used at t = 0\n",
    "params_T = merge(parameters, (d = d_T, )) # parameters to be used at t = T\n",
    "#params_autarky = merge(parameters, (d = d_autarky, )) # parameters to be used in autarky calc\n",
    "\n",
    "# initial value for numerical solver on (g, z_hat, Omega)\n",
    "initial_x = [0.02; 2; .57]\n",
    "\n",
    "# solve for stationary solution at t = 0\n",
    "stationary_sol_0 = stationary_algebraic(params_0, initial_x) # solution at t = 0\n",
    "stationary_sol = stationary_algebraic(params_T, initial_x) # solution at t = T\n",
    "#stationary_autarky = stationary_algebraic(params_autarky, initial_x) # solution at t = T\n",
    "\n",
    "lambda_ss = 100*(consumption_equivalent(stationary_sol.U_bar, stationary_sol_0.U_bar, parameters)-1)\n",
    "\n",
    "print(\"SS to SS welfare gain: \", lambda_ss,\"\\n\")\n",
    "print(\"Change in Trade: \", (1-stationary_sol.λ_ii) - (1-stationary_sol_0.λ_ii),\"\\n\")\n",
    "print(\"Growth Rates across SS: \", 100*stationary_sol.g,\"   \" ,100*stationary_sol_0.g, \"\\n\")"
   ]
  },
  {
   "cell_type": "markdown",
   "metadata": {},
   "source": [
    "---\n",
    "\n",
    "- The ``0.03`` calibration: ``5.0679    3.2943    0.0624    2.9368``"
   ]
  },
  {
   "cell_type": "code",
   "execution_count": 8,
   "metadata": {},
   "outputs": [
    {
     "ename": "LoadError",
     "evalue": "syntax: unexpected \",\"",
     "output_type": "error",
     "traceback": [
      "syntax: unexpected \",\"",
      ""
     ]
    }
   ],
   "source": [
    "parameters = merge(parameters, (,))\n",
    "d_0 = parameters.d # Here is the 10 percent tariff increase\n",
    "d_T = 1 + (parameters.d-1)*0.90\n",
    "\n",
    "#d_autarky = 1 + (parameters.d-1)*2.5 \n",
    "\n",
    "params_0 = merge(parameters, (d = d_0, )) # parameters to be used at t = 0\n",
    "params_T = merge(parameters, (d = d_T, )) # parameters to be used at t = T\n",
    "#params_autarky = merge(parameters, (d = d_autarky, )) # parameters to be used in autarky calc\n",
    "\n",
    "# initial value for numerical solver on (g, z_hat, Omega)\n",
    "initial_x = [0.02; 2; .57]\n",
    "\n",
    "# solve for stationary solution at t = 0\n",
    "stationary_sol_0 = stationary_algebraic(params_0, initial_x) # solution at t = 0\n",
    "stationary_sol = stationary_algebraic(params_T, initial_x) # solution at t = T\n",
    "#stationary_autarky = stationary_algebraic(params_autarky, initial_x) # solution at t = T\n",
    "\n",
    "lambda_ss = 100*(consumption_equivalent(stationary_sol.U_bar, stationary_sol_0.U_bar, parameters)-1)\n",
    "\n",
    "print(\"SS to SS welfare gain: \", lambda_ss,\"\\n\")\n",
    "print(\"Change in Trade: \", (1-stationary_sol.λ_ii) - (1-stationary_sol_0.λ_ii),\"\\n\")\n",
    "print(\"Growth Rates across SS: \", 100*stationary_sol.g,\"   \" ,100*stationary_sol_0.g, \"\\n\")"
   ]
  },
  {
   "cell_type": "markdown",
   "metadata": {},
   "source": [
    "---\n",
    "\n",
    "- The ``0.005`` calibration: ``5.0678    3.2943    0.0610    2.7949``"
   ]
  },
  {
   "cell_type": "code",
   "execution_count": 9,
   "metadata": {},
   "outputs": [
    {
     "ename": "LoadError",
     "evalue": "syntax: unexpected \",\"",
     "output_type": "error",
     "traceback": [
      "syntax: unexpected \",\"",
      ""
     ]
    }
   ],
   "source": [
    "parameters = merge(parameters,,))\n",
    "\n",
    "d_0 = parameters.d # Here is the 10 percent tariff increase\n",
    "d_T = 1 + (parameters.d-1)*0.90\n",
    "\n",
    "#d_autarky = 1 + (parameters.d-1)*2.5 \n",
    "\n",
    "params_0 = merge(parameters, (d = d_0, )) # parameters to be used at t = 0\n",
    "params_T = merge(parameters, (d = d_T, )) # parameters to be used at t = T\n",
    "#params_autarky = merge(parameters, (d = d_autarky, )) # parameters to be used in autarky calc\n",
    "\n",
    "# initial value for numerical solver on (g, z_hat, Omega)\n",
    "initial_x = [0.02; 2; .57]\n",
    "\n",
    "# solve for stationary solution at t = 0\n",
    "stationary_sol_0 = stationary_algebraic(params_0, initial_x) # solution at t = 0\n",
    "stationary_sol = stationary_algebraic(params_T, initial_x) # solution at t = T\n",
    "#stationary_autarky = stationary_algebraic(params_autarky, initial_x) # solution at t = T\n",
    "\n",
    "lambda_ss = 100*(consumption_equivalent(stationary_sol.U_bar, stationary_sol_0.U_bar, parameters)-1)\n",
    "\n",
    "print(\"SS to SS welfare gain: \", lambda_ss,\"\\n\")\n",
    "print(\"Change in Trade: \", (1-stationary_sol.λ_ii) - (1-stationary_sol_0.λ_ii),\"\\n\")\n",
    "print(\"Growth Rates across SS: \", 100*stationary_sol.g,\"   \" ,100*stationary_sol_0.g, \"\\n\")"
   ]
  },
  {
   "cell_type": "markdown",
   "metadata": {},
   "source": [
    "---\n",
    "\n",
    "## Case \\#3 Vary Sigma, hold fixed GBM and drift\n",
    "\n",
    "We will do this for a plausible range of sigma's: 2, 3, 4, 5.\n",
    "\n",
    "**Summary** Several things happen from this excercise\n",
    "\n",
    "1. **Welfare and growth systematically rise as Sigma increases.** So the first calibration is simmilar to what we have in the baseline, but as sigma increases, the welfare gains and the change in the growth rate increase. \n",
    "\n",
    "2. The interpertation here is more complicated for several reasons. Now, all parameters are changing: theta, trade costs, etc. Also, the change in the volume of trade is chaniging as well. So to interpert the elasticity of a change in growth to a change in trade is harder to see as well. With that said, this is consistent with interpertation that sigma is influanceing the infered chi paramter and in turn how responsive economic growth is to a change in trade costs.\n",
    "\n",
    "3. This is also consistent with the experince of previous calibrations. We had a calibration with a fixed sigma of 3, but when we calibrated sigma, it pushed up to 2 something which is smaller giving a bit more modest gains....\n",
    "\n",
    "**Below are the details and the code**\n",
    "\n",
    "---"
   ]
  },
  {
   "cell_type": "markdown",
   "metadata": {},
   "source": [
    "- Sigma = 2, calibration is ``7.5097    2.4071    0.1165    4.0249``"
   ]
  },
  {
   "cell_type": "code",
   "execution_count": 10,
   "metadata": {},
   "outputs": [
    {
     "ename": "LoadError",
     "evalue": "syntax: unexpected \",\"",
     "output_type": "error",
     "traceback": [
      "syntax: unexpected \",\"",
      ""
     ]
    }
   ],
   "source": [
    "parameters = parameter_defaults()\n",
    "parameters = merge(parameters, ,))\n",
    "\n",
    "d_0 = parameters.d # Here is the 10 percent tariff increase\n",
    "d_T = 1 + (parameters.d-1)*0.90\n",
    "\n",
    "#d_autarky = 1 + (parameters.d-1)*2.5 \n",
    "\n",
    "params_0 = merge(parameters, (d = d_0, )) # parameters to be used at t = 0\n",
    "params_T = merge(parameters, (d = d_T, )) # parameters to be used at t = T\n",
    "#params_autarky = merge(parameters, (d = d_autarky, )) # parameters to be used in autarky calc\n",
    "\n",
    "# initial value for numerical solver on (g, z_hat, Omega)\n",
    "initial_x = [0.02; 2; .57]\n",
    "\n",
    "# solve for stationary solution at t = 0\n",
    "stationary_sol_0 = stationary_algebraic(params_0, initial_x) # solution at t = 0\n",
    "stationary_sol = stationary_algebraic(params_T, initial_x) # solution at t = T\n",
    "#stationary_autarky = stationary_algebraic(params_autarky, initial_x) # solution at t = T\n",
    "\n",
    "lambda_ss = 100*(consumption_equivalent(stationary_sol.U_bar, stationary_sol_0.U_bar, parameters)-1)\n",
    "\n",
    "print(\"SS to SS welfare gain: \", lambda_ss,\"\\n\")\n",
    "print(\"Change in Trade: \", (1-stationary_sol.λ_ii) - (1-stationary_sol_0.λ_ii),\"\\n\")\n",
    "print(\"Growth Rates across SS: \", 100*stationary_sol.g,\"   \" ,100*stationary_sol_0.g, \"\\n\")"
   ]
  },
  {
   "cell_type": "markdown",
   "metadata": {},
   "source": [
    "- Sigma = 3, calibration is ``3.0307    4.8219    0.1417    5.9260``"
   ]
  },
  {
   "cell_type": "code",
   "execution_count": 11,
   "metadata": {},
   "outputs": [
    {
     "ename": "LoadError",
     "evalue": "syntax: unexpected \",\"",
     "output_type": "error",
     "traceback": [
      "syntax: unexpected \",\"",
      ""
     ]
    }
   ],
   "source": [
    "parameters = merge(parameters, ,))\n",
    "\n",
    "d_0 = parameters.d # Here is the 10 percent tariff increase\n",
    "d_T = 1 + (parameters.d-1)*0.90\n",
    "\n",
    "#d_autarky = 1 + (parameters.d-1)*2.5 \n",
    "\n",
    "params_0 = merge(parameters, (d = d_0, )) # parameters to be used at t = 0\n",
    "params_T = merge(parameters, (d = d_T, )) # parameters to be used at t = T\n",
    "#params_autarky = merge(parameters, (d = d_autarky, )) # parameters to be used in autarky calc\n",
    "\n",
    "# initial value for numerical solver on (g, z_hat, Omega)\n",
    "initial_x = [0.02; 2; .57]\n",
    "\n",
    "# solve for stationary solution at t = 0\n",
    "stationary_sol_0 = stationary_algebraic(params_0, initial_x) # solution at t = 0\n",
    "stationary_sol = stationary_algebraic(params_T, initial_x) # solution at t = T\n",
    "#stationary_autarky = stationary_algebraic(params_autarky, initial_x) # solution at t = T\n",
    "\n",
    "lambda_ss = 100*(consumption_equivalent(stationary_sol.U_bar, stationary_sol_0.U_bar, parameters)-1)\n",
    "\n",
    "print(\"SS to SS welfare gain: \", lambda_ss,\"\\n\")\n",
    "print(\"Change in Trade: \", (1-stationary_sol.λ_ii) - (1-stationary_sol_0.λ_ii),\"\\n\")\n",
    "print(\"Growth Rates across SS: \", 100*stationary_sol.g,\"   \" ,100*stationary_sol_0.g, \"\\n\")"
   ]
  },
  {
   "cell_type": "markdown",
   "metadata": {},
   "source": [
    "- Sigma = 4, calibration is ``2.0942    7.2329    0.1748    7.6963``"
   ]
  },
  {
   "cell_type": "code",
   "execution_count": 12,
   "metadata": {},
   "outputs": [
    {
     "ename": "LoadError",
     "evalue": "syntax: unexpected \",\"",
     "output_type": "error",
     "traceback": [
      "syntax: unexpected \",\"",
      ""
     ]
    }
   ],
   "source": [
    "parameters = merge(parameters, (,))\n",
    "\n",
    "d_0 = parameters.d # Here is the 10 percent tariff increase\n",
    "d_T = 1 + (parameters.d-1)*0.90\n",
    "\n",
    "#d_autarky = 1 + (parameters.d-1)*2.5 \n",
    "\n",
    "params_0 = merge(parameters, (d = d_0, )) # parameters to be used at t = 0\n",
    "params_T = merge(parameters, (d = d_T, )) # parameters to be used at t = T\n",
    "#params_autarky = merge(parameters, (d = d_autarky, )) # parameters to be used in autarky calc\n",
    "\n",
    "# initial value for numerical solver on (g, z_hat, Omega)\n",
    "initial_x = [0.02; 2; .57]\n",
    "\n",
    "# solve for stationary solution at t = 0\n",
    "stationary_sol_0 = stationary_algebraic(params_0, initial_x) # solution at t = 0\n",
    "stationary_sol = stationary_algebraic(params_T, initial_x) # solution at t = T\n",
    "#stationary_autarky = stationary_algebraic(params_autarky, initial_x) # solution at t = T\n",
    "\n",
    "lambda_ss = 100*(consumption_equivalent(stationary_sol.U_bar, stationary_sol_0.U_bar, parameters)-1)\n",
    "\n",
    "print(\"SS to SS welfare gain: \", lambda_ss,\"\\n\")\n",
    "print(\"Change in Trade: \", (1-stationary_sol.λ_ii) - (1-stationary_sol_0.λ_ii),\"\\n\")\n",
    "print(\"Growth Rates across SS: \", 100*stationary_sol.g,\"   \" ,100*stationary_sol_0.g, \"\\n\")"
   ]
  },
  {
   "cell_type": "markdown",
   "metadata": {},
   "source": [
    "- Sigma = 5, calibration is ``1.7410    9.6431    0.1977    9.4262''"
   ]
  },
  {
   "cell_type": "code",
   "execution_count": 13,
   "metadata": {},
   "outputs": [
    {
     "ename": "LoadError",
     "evalue": "syntax: unexpected \",\"",
     "output_type": "error",
     "traceback": [
      "syntax: unexpected \",\"",
      ""
     ]
    }
   ],
   "source": [
    "parameters = merge(parameters, (,))\n",
    "\n",
    "d_0 = parameters.d # Here is the 10 percent tariff increase\n",
    "d_T = 1 + (parameters.d-1)*0.90\n",
    "\n",
    "#d_autarky = 1 + (parameters.d-1)*2.5 \n",
    "\n",
    "params_0 = merge(parameters, (d = d_0, )) # parameters to be used at t = 0\n",
    "params_T = merge(parameters, (d = d_T, )) # parameters to be used at t = T\n",
    "#params_autarky = merge(parameters, (d = d_autarky, )) # parameters to be used in autarky calc\n",
    "\n",
    "# initial value for numerical solver on (g, z_hat, Omega)\n",
    "initial_x = [0.02; 2; .57]\n",
    "\n",
    "# solve for stationary solution at t = 0\n",
    "stationary_sol_0 = stationary_algebraic(params_0, initial_x) # solution at t = 0\n",
    "stationary_sol = stationary_algebraic(params_T, initial_x) # solution at t = T\n",
    "#stationary_autarky = stationary_algebraic(params_autarky, initial_x) # solution at t = T\n",
    "\n",
    "lambda_ss = 100*(consumption_equivalent(stationary_sol.U_bar, stationary_sol_0.U_bar, parameters)-1)\n",
    "\n",
    "print(\"SS to SS welfare gain: \", lambda_ss,\"\\n\")\n",
    "print(\"Change in Trade: \", (1-stationary_sol.λ_ii) - (1-stationary_sol_0.λ_ii),\"\\n\")\n",
    "print(\"Growth Rates across SS: \", 100*stationary_sol.g,\"   \" ,100*stationary_sol_0.g, \"\\n\")"
   ]
  },
  {
   "cell_type": "markdown",
   "metadata": {},
   "source": [
    "## Case \\#4 Changes in Delta\n",
    "\n",
    "We will do this for a plausible range of deltas 0.10, 0.01, 0.0055 (Atkenson and Burstein 2010). Recall that our baseline is 0.05. \n",
    "\n",
    "**Summary** Several things happen from this excercise\n",
    "\n",
    "1. **Welfare and growth systematically fall as delta decreases.** This is surprising not what my prior would be....\n",
    "\n",
    "2. The other thing about this is the story about Chi...here as delta gets smaller, Chi is becoming larger! So this is going in the oppisite direction of the GBM case.\n",
    "\n",
    "**Below are the details and the code**\n",
    "\n",
    "---\n",
    "\n",
    "- here is a high delta case ``5.0684    3.2941    0.1496    3.8343``"
   ]
  },
  {
   "cell_type": "code",
   "execution_count": 14,
   "metadata": {},
   "outputs": [
    {
     "ename": "LoadError",
     "evalue": "syntax: unexpected \",\"",
     "output_type": "error",
     "traceback": [
      "syntax: unexpected \",\"",
      ""
     ]
    }
   ],
   "source": [
    "parameters = parameter_defaults()\n",
    "parameters = merge(parameters, (,))\n",
    "\n",
    "d_0 = parameters.d # Here is the 10 percent tariff increase\n",
    "d_T = 1 + (parameters.d-1)*0.90\n",
    "\n",
    "#d_autarky = 1 + (parameters.d-1)*2.5 \n",
    "\n",
    "params_0 = merge(parameters, (d = d_0, )) # parameters to be used at t = 0\n",
    "params_T = merge(parameters, (d = d_T, )) # parameters to be used at t = T\n",
    "#params_autarky = merge(parameters, (d = d_autarky, )) # parameters to be used in autarky calc\n",
    "\n",
    "# initial value for numerical solver on (g, z_hat, Omega)\n",
    "initial_x = [0.02; 2; .57]\n",
    "\n",
    "# solve for stationary solution at t = 0\n",
    "stationary_sol_0 = stationary_algebraic(params_0, initial_x) # solution at t = 0\n",
    "stationary_sol = stationary_algebraic(params_T, initial_x) # solution at t = T\n",
    "#stationary_autarky = stationary_algebraic(params_autarky, initial_x) # solution at t = T\n",
    "\n",
    "lambda_ss = 100*(consumption_equivalent(stationary_sol.U_bar, stationary_sol_0.U_bar, parameters)-1)\n",
    "\n",
    "print(\"SS to SS welfare gain: \", lambda_ss,\"\\n\")\n",
    "print(\"Change in Trade: \", (1-stationary_sol.λ_ii) - (1-stationary_sol_0.λ_ii),\"\\n\")\n",
    "print(\"Growth Rates across SS: \", 100*stationary_sol.g,\"   \" ,100*stationary_sol_0.g, \"\\n\")"
   ]
  },
  {
   "cell_type": "markdown",
   "metadata": {},
   "source": [
    "- low delta case, 0.01: ``5.0684    3.2941    0.0872    7.8101``"
   ]
  },
  {
   "cell_type": "code",
   "execution_count": 15,
   "metadata": {},
   "outputs": [
    {
     "ename": "LoadError",
     "evalue": "syntax: unexpected \",\"",
     "output_type": "error",
     "traceback": [
      "syntax: unexpected \",\"",
      ""
     ]
    }
   ],
   "source": [
    "parameters = parameter_defaults()\n",
    "parameters = merge(parameters, (,))\n",
    "\n",
    "d_0 = parameters.d # Here is the 10 percent tariff increase\n",
    "d_T = 1 + (parameters.d-1)*0.90\n",
    "\n",
    "#d_autarky = 1 + (parameters.d-1)*2.5 \n",
    "\n",
    "params_0 = merge(parameters, (d = d_0, )) # parameters to be used at t = 0\n",
    "params_T = merge(parameters, (d = d_T, )) # parameters to be used at t = T\n",
    "#params_autarky = merge(parameters, (d = d_autarky, )) # parameters to be used in autarky calc\n",
    "\n",
    "# initial value for numerical solver on (g, z_hat, Omega)\n",
    "initial_x = [0.02; 2; .57]\n",
    "\n",
    "# solve for stationary solution at t = 0\n",
    "stationary_sol_0 = stationary_algebraic(params_0, initial_x) # solution at t = 0\n",
    "stationary_sol = stationary_algebraic(params_T, initial_x) # solution at t = T\n",
    "#stationary_autarky = stationary_algebraic(params_autarky, initial_x) # solution at t = T\n",
    "\n",
    "lambda_ss = 100*(consumption_equivalent(stationary_sol.U_bar, stationary_sol_0.U_bar, parameters)-1)\n",
    "\n",
    "print(\"SS to SS welfare gain: \", lambda_ss,\"\\n\")\n",
    "print(\"Change in Trade: \", (1-stationary_sol.λ_ii) - (1-stationary_sol_0.λ_ii),\"\\n\")\n",
    "print(\"Growth Rates across SS: \", 100*stationary_sol.g,\"   \" ,100*stationary_sol_0.g, \"\\n\")"
   ]
  },
  {
   "cell_type": "markdown",
   "metadata": {},
   "source": [
    " - low delta case, 0.0055: 5.0678    3.2941    0.0841    8.7525\n",
    " \n",
    " **Note** This is the value that AB(2010) use. They base it on employment, not counts..."
   ]
  },
  {
   "cell_type": "code",
   "execution_count": 16,
   "metadata": {},
   "outputs": [
    {
     "ename": "ErrorException",
     "evalue": "type Array has no field stationary_x0",
     "output_type": "error",
     "traceback": [
      "type Array has no field stationary_x0",
      "",
      "Stacktrace:",
      " [1] getproperty(::Any, ::Symbol) at ./sysimg.jl:18",
      " [2] stationary_algebraic(::NamedTuple{(:ρ, :σ, :N, :θ, :γ, :κ, :ζ, :η, :Theta, :χ, :υ, :μ, :δ, :d, :d_0, :d_T),Tuple{Float64,Float64,Int64,Float64,Float64,Float64,Float64,Float64,Int64,Float64,Float64,Float64,Float64,Float64,Float64,Float64}}, ::Array{Float64,1}) at /home/arnavsood/Desktop/PerlaTonettiWaugh.jl/src/full/stationary.jl:5",
      " [3] top-level scope at In[16]:15"
     ]
    }
   ],
   "source": [
    "parameters = parameter_defaults()\n",
    "parameters = merge(parameters, ())\n",
    "\n",
    "d_0 = parameters.d # Here is the 10 percent tariff increase\n",
    "d_T = 1 + (parameters.d-1)*0.90\n",
    "\n",
    "#d_autarky = 1 + (parameters.d-1)*2.5 \n",
    "\n",
    "params_0 = merge(parameters, (d = d_0, )) # parameters to be used at t = 0\n",
    "params_T = merge(parameters, (d = d_T, )) # parameters to be used at t = T\n",
    "#params_autarky = merge(parameters, (d = d_autarky, )) # parameters to be used in autarky calc\n",
    "\n",
    "# initial value for numerical solver on (g, z_hat, Omega)\n",
    "initial_x = [0.02; 2; .57]\n",
    "\n",
    "# solve for stationary solution at t = 0\n",
    "stationary_sol_0 = stationary_algebraic(params_0, initial_x) # solution at t = 0\n",
    "stationary_sol = stationary_algebraic(params_T, initial_x) # solution at t = T\n",
    "#stationary_autarky = stationary_algebraic(params_autarky, initial_x) # solution at t = T\n",
    "\n",
    "lambda_ss = 100*(consumption_equivalent(stationary_sol.U_bar, stationary_sol_0.U_bar, parameters)-1)\n",
    "\n",
    "print(\"SS to SS welfare gain: \", lambda_ss,\"\\n\")\n",
    "print(\"Change in Trade: \", (1-stationary_sol.λ_ii) - (1-stationary_sol_0.λ_ii),\"\\n\")\n",
    "print(\"Growth Rates across SS: \", 100*stationary_sol.g,\"   \" ,100*stationary_sol_0.g, \"\\n\")"
   ]
  },
  {
   "cell_type": "markdown",
   "metadata": {},
   "source": [
    "---"
   ]
  },
  {
   "cell_type": "code",
   "execution_count": 17,
   "metadata": {},
   "outputs": [
    {
     "ename": "LoadError",
     "evalue": "syntax: unexpected \",\"",
     "output_type": "error",
     "traceback": [
      "syntax: unexpected \",\"",
      ""
     ]
    }
   ],
   "source": [
    "parameters = parameter_defaults()\n",
    "\n",
    "#3.0065    5.0404    0.0775    6.4481   -0.0188    0.0487    3.1893\n",
    "parameters = merge(parameters, (,))\n",
    "\n",
    "d_0 = parameters.d # Here is the 10 percent tariff increase\n",
    "d_T = 1 + (parameters.d-1)*0.90\n",
    "\n",
    "#d_autarky = 1 + (parameters.d-1)*2.5 \n",
    "\n",
    "params_0 = merge(parameters, (d = d_0, )) # parameters to be used at t = 0\n",
    "params_T = merge(parameters, (d = d_T, )) # parameters to be used at t = T\n",
    "#params_autarky = merge(parameters, (d = d_autarky, )) # parameters to be used in autarky calc\n",
    "\n",
    "# initial value for numerical solver on (g, z_hat, Omega)\n",
    "initial_x = [0.02; 2; .57]\n",
    "\n",
    "# solve for stationary solution at t = 0\n",
    "stationary_sol_0 = stationary_algebraic(params_0, initial_x) # solution at t = 0\n",
    "stationary_sol = stationary_algebraic(params_T, initial_x) # solution at t = T\n",
    "#stationary_autarky = stationary_algebraic(params_autarky, initial_x) # solution at t = T\n",
    "\n",
    "lambda_ss = 100*(consumption_equivalent(stationary_sol.U_bar, stationary_sol_0.U_bar, parameters)-1)\n",
    "\n",
    "print(\"SS to SS welfare gain: \", lambda_ss,\"\\n\")\n",
    "print(\"Change in Trade: \", (1-stationary_sol.λ_ii) - (1-stationary_sol_0.λ_ii),\"\\n\")\n",
    "print(\"Growth Rates across SS: \", 100*stationary_sol.g,\"   \" ,100*stationary_sol_0.g, \"\\n\")"
   ]
  },
  {
   "cell_type": "code",
   "execution_count": 18,
   "metadata": {},
   "outputs": [
    {
     "ename": "LoadError",
     "evalue": "syntax: unexpected \",\"",
     "output_type": "error",
     "traceback": [
      "syntax: unexpected \",\"",
      ""
     ]
    }
   ],
   "source": [
    "parameters = parameter_defaults()\n",
    "\n",
    "parameters = merge(parameters, (,))\n",
    "\n",
    "d_0 = parameters.d # Here is the 10 percent tariff increase\n",
    "d_T = 1 + (parameters.d-1)*0.90\n",
    "\n",
    "#d_autarky = 1 + (parameters.d-1)*2.5 \n",
    "\n",
    "params_0 = merge(parameters, (d = d_0, )) # parameters to be used at t = 0\n",
    "params_T = merge(parameters, (d = d_T, )) # parameters to be used at t = T\n",
    "#params_autarky = merge(parameters, (d = d_autarky, )) # parameters to be used in autarky calc\n",
    "\n",
    "# initial value for numerical solver on (g, z_hat, Omega)\n",
    "initial_x = [0.02; 2; .57]\n",
    "\n",
    "# solve for stationary solution at t = 0\n",
    "stationary_sol_0 = stationary_algebraic(params_0, initial_x) # solution at t = 0\n",
    "stationary_sol = stationary_algebraic(params_T, initial_x) # solution at t = T\n",
    "#stationary_autarky = stationary_algebraic(params_autarky, initial_x) # solution at t = T\n",
    "\n",
    "lambda_ss = 100*(consumption_equivalent(stationary_sol.U_bar, stationary_sol_0.U_bar, parameters)-1)\n",
    "\n",
    "print(\"SS to SS welfare gain: \", lambda_ss,\"\\n\")\n",
    "print(\"Change in Trade: \", (1-stationary_sol.λ_ii) - (1-stationary_sol_0.λ_ii),\"\\n\")\n",
    "print(\"Growth Rates across SS: \", 100*stationary_sol.g,\"   \" ,100*stationary_sol_0.g, \"\\n\")"
   ]
  },
  {
   "cell_type": "code",
   "execution_count": 19,
   "metadata": {},
   "outputs": [
    {
     "ename": "ErrorException",
     "evalue": "type Array has no field stationary_x0",
     "output_type": "error",
     "traceback": [
      "type Array has no field stationary_x0",
      "",
      "Stacktrace:",
      " [1] getproperty(::Any, ::Symbol) at ./sysimg.jl:18",
      " [2] stationary_algebraic(::NamedTuple{(:ρ, :σ, :N, :θ, :γ, :κ, :ζ, :η, :Theta, :χ, :υ, :μ, :δ, :d, :d_0, :d_T),Tuple{Float64,Float64,Int64,Float64,Float64,Float64,Float64,Float64,Int64,Float64,Float64,Float64,Float64,Float64,Float64,Float64}}, ::Array{Float64,1}) at /home/arnavsood/Desktop/PerlaTonettiWaugh.jl/src/full/stationary.jl:5",
      " [3] top-level scope at In[19]:16"
     ]
    }
   ],
   "source": [
    "parameters = parameter_defaults()\n",
    "#3.0426    5.0018    0.0732    5.9577   -0.0189    0.0484    3.1725\n",
    "parameters = merge(parameters, (ρ = 0.0215, d = 3.0426 , θ = 5.0018  ,  κ = 0.0732, χ = 1/5.9577, υ =  0.0484 , μ = -0.0189, σ = 3.1725, δ = 0.02,))\n",
    "\n",
    "d_0 = parameters.d # Here is the 10 percent tariff increase\n",
    "d_T = 1 + (parameters.d-1)*0.90\n",
    "\n",
    "#d_autarky = 1 + (parameters.d-1)*2.5 \n",
    "\n",
    "params_0 = merge(parameters, (d = d_0, )) # parameters to be used at t = 0\n",
    "params_T = merge(parameters, (d = d_T, )) # parameters to be used at t = T\n",
    "#params_autarky = merge(parameters, (d = d_autarky, )) # parameters to be used in autarky calc\n",
    "\n",
    "# initial value for numerical solver on (g, z_hat, Omega)\n",
    "initial_x = [0.02; 2; .57]\n",
    "\n",
    "# solve for stationary solution at t = 0\n",
    "stationary_sol_0 = stationary_algebraic(params_0, initial_x) # solution at t = 0\n",
    "stationary_sol = stationary_algebraic(params_T, initial_x) # solution at t = T\n",
    "#stationary_autarky = stationary_algebraic(params_autarky, initial_x) # solution at t = T\n",
    "\n",
    "lambda_ss = 100*(consumption_equivalent(stationary_sol.U_bar, stationary_sol_0.U_bar, parameters)-1)\n",
    "\n",
    "acr_gains = 100*(((stationary_sol.λ_ii/stationary_sol_0.λ_ii))^(-1 / parameters.θ) - 1)\n",
    "\n",
    "print(\"SS to SS welfare gain: \", lambda_ss,\"\\n\")\n",
    "print(\"Change in Trade: \", (1-stationary_sol.λ_ii) - (1-stationary_sol_0.λ_ii),\"\\n\")\n",
    "print(\"Growth Rates across SS: \", 100*stationary_sol.g,\"   \" ,100*stationary_sol_0.g, \"\\n\")\n",
    "print(\"ACR Gains: \", acr_gains, \"\\n\")"
   ]
  },
  {
   "cell_type": "code",
   "execution_count": 20,
   "metadata": {},
   "outputs": [
    {
     "ename": "UndefVarError",
     "evalue": "UndefVarError: acr_gains not defined",
     "output_type": "error",
     "traceback": [
      "UndefVarError: acr_gains not defined",
      "",
      "Stacktrace:",
      " [1] top-level scope at In[20]:1"
     ]
    }
   ],
   "source": [
    "acr_gains"
   ]
  },
  {
   "cell_type": "code",
   "execution_count": 21,
   "metadata": {},
   "outputs": [
    {
     "data": {
      "text/plain": [
       "2.8383400000000005"
      ]
     },
     "execution_count": 21,
     "metadata": {},
     "output_type": "execute_result"
    }
   ],
   "source": [
    "d_T "
   ]
  }
 ],
 "metadata": {
  "kernelspec": {
   "display_name": "Julia 1.1.0",
   "language": "julia",
   "name": "julia-1.1"
  },
  "language_info": {
   "file_extension": ".jl",
   "mimetype": "application/julia",
   "name": "julia",
   "version": "1.1.0"
  }
 },
 "nbformat": 4,
 "nbformat_minor": 2
}
