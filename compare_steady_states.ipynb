{
 "cells": [
  {
   "cell_type": "markdown",
   "metadata": {},
   "source": [
    "This is a direct port of the old `growth_gbm` notebook. So any analysis/parameters/other objects which were\n",
    "outdated in that notebook will also be outdated here."
   ]
  },
  {
   "cell_type": "code",
   "execution_count": 1,
   "metadata": {},
   "outputs": [
    {
     "name": "stdout",
     "output_type": "stream",
     "text": [
      "\u001b[32m\u001b[1m  Updating\u001b[22m\u001b[39m registry at `~/.julia/registries/General`\n",
      "\u001b[32m\u001b[1m  Updating\u001b[22m\u001b[39m git-repo `https://github.com/JuliaRegistries/General.git`\n",
      "\u001b[?25l\u001b[2K\u001b[?25h"
     ]
    },
    {
     "name": "stderr",
     "output_type": "stream",
     "text": [
      "┌ Warning: Some registries failed to update:\n",
      "│     — /Users/arnavsood/.julia/registries/General — failed to fetch from repo\n",
      "└ @ Pkg.Types /Users/osx/buildbot/slave/package_osx64/build/usr/share/julia/stdlib/v1.1/Pkg/src/Types.jl:1269\n"
     ]
    },
    {
     "name": "stdout",
     "output_type": "stream",
     "text": [
      "\u001b[32m\u001b[1mPrecompiling\u001b[22m\u001b[39m project...\n",
      "\u001b[32m\u001b[1mPrecompiling\u001b[22m\u001b[39m PerlaTonettiWaugh\n"
     ]
    },
    {
     "name": "stderr",
     "output_type": "stream",
     "text": [
      "┌ Info: Recompiling stale cache file /Users/arnavsood/.julia/compiled/v1.1/PerlaTonettiWaugh/Zi3ee.ji for PerlaTonettiWaugh [d2cacc76-b06b-11e8-362b-f18d03a16405]\n",
      "└ @ Base loading.jl:1184\n"
     ]
    }
   ],
   "source": [
    "using Pkg\n",
    "pkg\"activate .; instantiate; precompile\""
   ]
  },
  {
   "cell_type": "markdown",
   "metadata": {},
   "source": [
    "And load particular packages"
   ]
  },
  {
   "cell_type": "code",
   "execution_count": 2,
   "metadata": {},
   "outputs": [
    {
     "data": {
      "text/plain": [
       "Plots.GRBackend()"
      ]
     },
     "execution_count": 2,
     "metadata": {},
     "output_type": "execute_result"
    }
   ],
   "source": [
    "using CSV, Plots, JSON, BenchmarkTools, Parameters, PerlaTonettiWaugh\n",
    "gr(fmt = :png)"
   ]
  },
  {
   "cell_type": "markdown",
   "metadata": {},
   "source": [
    "Define a default parameters object"
   ]
  },
  {
   "cell_type": "code",
   "execution_count": 3,
   "metadata": {},
   "outputs": [
    {
     "data": {
      "text/plain": [
       "#3 (generic function with 2 methods)"
      ]
     },
     "execution_count": 3,
     "metadata": {},
     "output_type": "execute_result"
    }
   ],
   "source": [
    "comparison_defaults = @with_kw (ρ = 0.02,\n",
    "                                σ = 3.05,\n",
    "                                N = 10,\n",
    "                                θ = 4.9411,\n",
    "                                γ = 1.00,\n",
    "                                κ = 0.1317,\n",
    "                                ζ = 1.0,\n",
    "                                η = 0.,\n",
    "                                Theta = 1,\n",
    "                                χ = 1/5.2965,\n",
    "                                υ = 0.0553,\n",
    "                                μ = -0.0115,\n",
    "                                δ = 0.05,\n",
    "                                d_0 = 2.9753,\n",
    "                                d_T = 1 + (d_0 - 1)*0.9) # this holds for any d_0 you pass in"
   ]
  },
  {
   "cell_type": "markdown",
   "metadata": {},
   "source": [
    "## First Experiment"
   ]
  },
  {
   "cell_type": "code",
   "execution_count": 4,
   "metadata": {},
   "outputs": [
    {
     "name": "stdout",
     "output_type": "stream",
     "text": [
      "SS to SS welfare gain: 13.791679072369977\n",
      "Change in Trade: 0.029921761854236117\n",
      "Growth Rates across SS: 1.1575084193784475 (time T) vs 0.8840735916597422 (time 0)\n"
     ]
    }
   ],
   "source": [
    "parameters = comparison_defaults(ρ = 0.0195, d_0 = 5.0672, θ = 3.2941, κ = 0.1152, χ = 1/4.7847, υ = 0.0819, μ = -0.0289, σ = 2.3664);\n",
    "settings = settings_defaults()\n",
    "compare_steady_states(parameters, settings, verbose = true, algebraic = true);"
   ]
  },
  {
   "cell_type": "markdown",
   "metadata": {},
   "source": [
    "## Second Experiment\n",
    "\n",
    "Here, we turn off the drift (i.e., set ``\\mu = 0.``) We also make some other parameter tweaks to compensate."
   ]
  },
  {
   "cell_type": "code",
   "execution_count": 5,
   "metadata": {},
   "outputs": [
    {
     "name": "stdout",
     "output_type": "stream",
     "text": [
      "SS to SS welfare gain: 12.136589610518932\n",
      "Change in Trade: 0.032894131288807804\n",
      "Growth Rates across SS: 1.1621573831523413 (time T) vs 0.8794543976478706 (time 0)\n"
     ]
    }
   ],
   "source": [
    "parameters = comparison_defaults(ρ = 0.0195, d_0 = 5.0623, θ = 3.2944, κ = 0.0633, χ = 1/3.3966, υ = 0.0819, μ = 0.0, σ = 2.3664);\n",
    "compare_steady_states(parameters, settings, verbose = true, algebraic = true);"
   ]
  },
  {
   "cell_type": "markdown",
   "metadata": {},
   "source": [
    "## Third Experiment"
   ]
  },
  {
   "cell_type": "code",
   "execution_count": 6,
   "metadata": {},
   "outputs": [
    {
     "name": "stdout",
     "output_type": "stream",
     "text": [
      "SS to SS welfare gain: 9.442911416287991\n",
      "Change in Trade: 0.03130280709779698\n",
      "Growth Rates across SS: 1.096262467613782 (time T) vs 0.8798988516000188 (time 0)\n"
     ]
    }
   ],
   "source": [
    "parameters = comparison_defaults(ρ = 0.0195, d_0 = 5.0684, θ = 3.2941,  κ = 0.0636, χ = 1/3.1965, υ = 0.06, μ = 0.0, σ = 2.3664);\n",
    "compare_steady_states(parameters, settings, verbose = true, algebraic = true);"
   ]
  },
  {
   "cell_type": "markdown",
   "metadata": {},
   "source": [
    "## Fourth Experiment"
   ]
  },
  {
   "cell_type": "code",
   "execution_count": 7,
   "metadata": {},
   "outputs": [
    {
     "name": "stdout",
     "output_type": "stream",
     "text": [
      "SS to SS welfare gain: 6.338555821261993\n",
      "Change in Trade: 0.02973363892833436\n",
      "Growth Rates across SS: 1.02193268668618 (time T) vs 0.8805343903899773 (time 0)\n"
     ]
    }
   ],
   "source": [
    "parameters = comparison_defaults(ρ = 0.0195, d_0 = 5.0679, θ = 3.2943,  κ = 0.0624, χ = 1/2.9368, υ = 0.03, μ = 0.0, σ = 2.3664);\n",
    "compare_steady_states(parameters, settings, verbose = true, algebraic = true);"
   ]
  },
  {
   "cell_type": "markdown",
   "metadata": {},
   "source": [
    "## Fifth Experiment"
   ]
  },
  {
   "cell_type": "code",
   "execution_count": 8,
   "metadata": {},
   "outputs": [
    {
     "name": "stdout",
     "output_type": "stream",
     "text": [
      "SS to SS welfare gain: 4.6808826773024\n",
      "Change in Trade: 0.02890469413964225\n",
      "Growth Rates across SS: 0.9814454531079473 (time T) vs 0.8802138869309873 (time 0)\n"
     ]
    }
   ],
   "source": [
    "parameters = comparison_defaults(ρ = 0.0195, d_0 = 5.0678, θ = 3.2943,  κ = 0.0610, χ = 1/2.7949, υ = 0.005, μ = 0.0, σ = 2.3664);\n",
    "compare_steady_states(parameters, settings, verbose = true, algebraic = true);"
   ]
  },
  {
   "cell_type": "markdown",
   "metadata": {},
   "source": [
    "## Sixth Experiment"
   ]
  },
  {
   "cell_type": "code",
   "execution_count": 9,
   "metadata": {},
   "outputs": [
    {
     "name": "stdout",
     "output_type": "stream",
     "text": [
      "SS to SS welfare gain: 13.526107979417802\n",
      "Change in Trade: 0.02682712297596379\n",
      "Growth Rates across SS: 1.150788672736482 (time T) vs 0.8791167546979947 (time 0)\n"
     ]
    }
   ],
   "source": [
    "parameters = comparison_defaults(ρ = 0.0195, d_0 = 7.5097, θ = 2.4071,  κ = 0.1165, χ = 1/4.0249, υ = 0.0819, μ = -0.0289, σ = 2.0);\n",
    "compare_steady_states(parameters, settings, verbose = true, algebraic = true);"
   ]
  },
  {
   "cell_type": "markdown",
   "metadata": {},
   "source": [
    "## Seventh Experiment"
   ]
  },
  {
   "cell_type": "code",
   "execution_count": 10,
   "metadata": {},
   "outputs": [
    {
     "name": "stdout",
     "output_type": "stream",
     "text": [
      "SS to SS welfare gain: 16.7953002943515\n",
      "Change in Trade: 0.037803341595776585\n",
      "Growth Rates across SS: 1.2046128655975836 (time T) vs 0.8796975015242129 (time 0)\n"
     ]
    }
   ],
   "source": [
    "parameters = comparison_defaults(ρ = 0.0195, d_0 = 3.0307, θ = 4.8219,  κ = 0.1417, χ = 1/5.9260, υ = 0.0819, μ = -0.0289, σ = 3.0);\n",
    "compare_steady_states(parameters, settings, verbose = true, algebraic = true);"
   ]
  },
  {
   "cell_type": "markdown",
   "metadata": {},
   "source": [
    "## Eighth Experiment"
   ]
  },
  {
   "cell_type": "code",
   "execution_count": 11,
   "metadata": {},
   "outputs": [
    {
     "name": "stdout",
     "output_type": "stream",
     "text": [
      "SS to SS welfare gain: 20.750348377896977\n",
      "Change in Trade: 0.046535123925833366\n",
      "Growth Rates across SS: 1.2721897855743538 (time T) vs 0.8801454087305576 (time 0)\n"
     ]
    }
   ],
   "source": [
    "parameters = comparison_defaults(ρ = 0.0195, d_0 = 2.0942, θ = 7.2329,  κ = 0.1748, χ = 1/7.6963, υ = 0.0819, μ = -0.0289, σ = 4.0);\n",
    "compare_steady_states(parameters, settings, verbose = true, algebraic = true);"
   ]
  },
  {
   "cell_type": "markdown",
   "metadata": {},
   "source": [
    "## Ninth Experiment"
   ]
  },
  {
   "cell_type": "code",
   "execution_count": 12,
   "metadata": {},
   "outputs": [
    {
     "name": "stdout",
     "output_type": "stream",
     "text": [
      "SS to SS welfare gain: 24.537216886363723\n",
      "Change in Trade: 0.053500737855852964\n",
      "Growth Rates across SS: 1.3355158764560657 (time T) vs 0.8794855689200156 (time 0)\n"
     ]
    }
   ],
   "source": [
    "parameters = comparison_defaults(ρ = 0.0195, d_0 = 1.7410, θ = 9.6431,  κ = 0.1977, χ = 1/9.4262, υ = 0.0819, μ = -0.0289, σ = 5.0);\n",
    "compare_steady_states(parameters, settings, verbose = true, algebraic = true);"
   ]
  },
  {
   "cell_type": "markdown",
   "metadata": {},
   "source": [
    "## Tenth Experiment"
   ]
  },
  {
   "cell_type": "code",
   "execution_count": 13,
   "metadata": {},
   "outputs": [
    {
     "name": "stdout",
     "output_type": "stream",
     "text": [
      "SS to SS welfare gain: 19.5874140689305\n",
      "Change in Trade: 0.029984738804908373\n",
      "Growth Rates across SS: 1.2456639330803607 (time T) vs 0.8795448627056862 (time 0)\n"
     ]
    }
   ],
   "source": [
    "parameters = comparison_defaults(ρ = 0.0195, d_0 = 5.0684, θ = 3.2941,  κ = 0.1496, χ = 1/3.8343, υ = 0.0819, μ = -0.0289, σ = 2.3664, δ = 0.10);\n",
    "compare_steady_states(parameters, settings, verbose = true, algebraic = true);"
   ]
  },
  {
   "cell_type": "markdown",
   "metadata": {},
   "source": [
    "## Eleventh Experiment"
   ]
  },
  {
   "cell_type": "code",
   "execution_count": 14,
   "metadata": {},
   "outputs": [
    {
     "name": "stdout",
     "output_type": "stream",
     "text": [
      "SS to SS welfare gain: 8.621421484831405\n",
      "Change in Trade: 0.029810889535040075\n",
      "Growth Rates across SS: 1.0793493918663482 (time T) vs 0.8799492563885153 (time 0)\n"
     ]
    }
   ],
   "source": [
    "parameters = comparison_defaults(ρ = 0.0195, d_0 = 5.0684, θ = 3.2941,  κ = 0.0872, χ = 1/7.8101, υ = 0.0819, μ = -0.0289, σ = 2.3664, δ = 0.010)\n",
    "compare_steady_states(parameters, settings, verbose = true, algebraic = true);"
   ]
  },
  {
   "cell_type": "markdown",
   "metadata": {},
   "source": [
    "## Twelfth Experiment"
   ]
  },
  {
   "cell_type": "code",
   "execution_count": 15,
   "metadata": {},
   "outputs": [
    {
     "name": "stdout",
     "output_type": "stream",
     "text": [
      "SS to SS welfare gain: 7.81400863627133\n",
      "Change in Trade: 0.02976803901042957\n",
      "Growth Rates across SS: 1.0699002308966026 (time T) vs 0.8789865022794332 (time 0)\n"
     ]
    }
   ],
   "source": [
    "parameters = comparison_defaults(ρ = 0.0195, d_0 = 5.0684, θ = 3.2941,  κ = 0.0841, χ = 1/8.7525, υ = 0.0819, μ = -0.0289, σ = 2.3664, δ = 0.0055)\n",
    "compare_steady_states(parameters, settings, verbose = true, algebraic = true);"
   ]
  },
  {
   "cell_type": "markdown",
   "metadata": {},
   "source": [
    "## Thirteenth Experiment"
   ]
  },
  {
   "cell_type": "code",
   "execution_count": 16,
   "metadata": {},
   "outputs": [
    {
     "name": "stdout",
     "output_type": "stream",
     "text": [
      "SS to SS welfare gain: 9.030851788361382\n",
      "Change in Trade: 0.03841097626043133\n",
      "Growth Rates across SS: 1.0728614622465322 (time T) vs 0.8839890350307871 (time 0)\n"
     ]
    }
   ],
   "source": [
    "parameters = comparison_defaults(ρ = 0.0195, d_0 = 3.0065, θ = 5.0404,  κ = 0.0775, χ = 1/6.4481, υ = 0.0487, μ = -0.0188, σ = 3.1893, δ = 0.02)\n",
    "compare_steady_states(parameters, settings, verbose = true, algebraic = true);"
   ]
  },
  {
   "cell_type": "markdown",
   "metadata": {},
   "source": [
    "## Fourteenth Experiment"
   ]
  },
  {
   "cell_type": "code",
   "execution_count": 17,
   "metadata": {},
   "outputs": [
    {
     "name": "stdout",
     "output_type": "stream",
     "text": [
      "SS to SS welfare gain: 10.197801905252835\n",
      "Change in Trade: 0.03489284140800886\n",
      "Growth Rates across SS: 1.095829143991513 (time T) vs 0.8755401124852775 (time 0)\n"
     ]
    }
   ],
   "source": [
    "parameters = comparison_defaults(ρ = 0.0195, d_0 = 3.8015, θ = 4.1015, κ = 0.0860, χ = 1/10.0355, υ = 0.0631, μ = -0.0328 , σ = 2.7821, δ = 0.006)\n",
    "compare_steady_states(parameters, settings, verbose = true, algebraic = true);"
   ]
  },
  {
   "cell_type": "markdown",
   "metadata": {},
   "source": [
    "## Fifteenth Experiment"
   ]
  },
  {
   "cell_type": "code",
   "execution_count": 18,
   "metadata": {},
   "outputs": [
    {
     "name": "stdout",
     "output_type": "stream",
     "text": [
      "SS to SS welfare gain: 7.651741601259832\n",
      "Change in Trade: 0.03820375526895958\n",
      "Growth Rates across SS: 0.8570416910077826 (time T) vs 0.6741737930000615 (time 0)\n",
      "acr_gains = 100 * ((stationary_T.λ_ii / stationary_0.λ_ii) ^ (-1 / parameters.θ) - 1) = 0.875363468244239\n"
     ]
    }
   ],
   "source": [
    "parameters = comparison_defaults(ρ = 0.0215, d_0 = 3.0426 , θ = 5.0018,  κ = 0.0732, χ = 1/5.9577, υ =  0.0484 , μ = -0.0189, σ = 3.1725, δ = 0.02)\n",
    "@unpack stationary_0, stationary_T = compare_steady_states(parameters, settings, verbose = true, algebraic = true);\n",
    "\n",
    "@show acr_gains = 100*(((stationary_T.λ_ii/stationary_0.λ_ii))^(-1 / parameters.θ) - 1);"
   ]
  }
 ],
 "metadata": {
  "kernelspec": {
   "display_name": "Julia 1.1.0",
   "language": "julia",
   "name": "julia-1.1"
  },
  "language_info": {
   "file_extension": ".jl",
   "mimetype": "application/julia",
   "name": "julia",
   "version": "1.1.0"
  }
 },
 "nbformat": 4,
 "nbformat_minor": 2
}
